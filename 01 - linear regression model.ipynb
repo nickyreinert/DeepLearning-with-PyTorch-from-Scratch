{
 "cells": [
  {
   "cell_type": "markdown",
   "metadata": {},
   "source": [
    "# Preliminary Notes and Vocab\n",
    "\n",
    "```\n",
    "scalar: 0\n",
    "\n",
    "vector: [0, 1, 2, 3]\n",
    "\n",
    "MATRIX: [[0, 1, 2, 3]\n",
    "         [0, 1, 2, 3]\n",
    "         [0, 1, 2, 3]]\n",
    "\n",
    "TENSOR: [[[0, 1, 2, 3] [[0, 1, 2, 3] [[0, 1, 2, 3]\n",
    "         [0, 1, 2, 3]  [0, 1, 2, 3]  [0, 1, 2, 3]\n",
    "         [0, 1, 2, 3]] [0, 1, 2, 3]] [0, 1, 2, 3]]]\n",
    "```\n",
    "\n",
    "\n",
    "* CPU - Central Processing Unit, general purpose, good with complex tasks, a lot of power but sequential only\n",
    "* GPU - Graphic Processing Unit, specialised, good with simple tasks, less but distributed power and parallel processing\n",
    "* TPU - Tensor Processing Unit, good with tensors\n",
    "* DPU - Data Processing Unit, good with data processing\n",
    "\n",
    "* setting a *random seed* allows to create reproduceable results\n",
    "\n",
    "* learning rate - step size when selecting new parameters (weights, biases)\n",
    "* epochs, epoch count - how many training iterations, each iteration repeats model's calculation\n",
    "\n",
    "### additional resource\n",
    "* https://learnpytorch.io\n",
    "* overview of loss functions: https://pytorch.org/docs/stable/nn.html#loss-functions\n",
    "* overview of optimizers: https://pytorch.org/docs/stable/optim.html#algorithms"
   ]
  },
  {
   "cell_type": "markdown",
   "metadata": {},
   "source": [
    "# Dependencies"
   ]
  },
  {
   "cell_type": "code",
   "execution_count": null,
   "metadata": {},
   "outputs": [],
   "source": [
    "# Init virtual environment via shell or VS Code (when selecting a kernel)\n",
    "#! python3 -m venv .venv\n",
    "#! source .venv/bin/activate\n",
    "!pip install matplotlib tqdm scikit-learn scipy pandas torchmetrics torchinfo mlxtend\n",
    "!pip install torch torchvision # when using CUDA\n",
    "!pip install urllib3==1.26.6 # because of this: urllib3 v2 only supports OpenSSL 1.1.1+, currently the 'ssl' module is compiled with 'LibreSSL 2.8.3'\n",
    "# when using MPS, probably deprecated, because PyTorch 2.1.2 supports MPS out of the box\n",
    "# !pip3 install --pre torch torchvision torchaudio --extra-index-url https://download.pytorch.org/whl/nightly/cpu "
   ]
  },
  {
   "cell_type": "code",
   "execution_count": 17,
   "metadata": {},
   "outputs": [
    {
     "name": "stdout",
     "output_type": "stream",
     "text": [
      "Torch version: 2.1.2\n",
      "Using device: mps\n"
     ]
    }
   ],
   "source": [
    "import torch\n",
    "import numpy as np\n",
    "from torch import nn\n",
    "import matplotlib.pyplot as plt\n",
    "from pathlib import Path\n",
    "from tqdm.auto import tqdm\n",
    "\n",
    "print(f\"Torch version: {torch.__version__}\")\n",
    "\n",
    "device = \"cuda\" if torch.cuda.is_available() else \"cpu\"\n",
    "\n",
    "device = \"mps\" if torch.backends.mps.is_available() else device\n",
    "\n",
    "print(f\"Using device: {device}\")\n",
    "\n",
    "random_seed = 42\n",
    "\n",
    "torch.manual_seed(random_seed)\n",
    "torch.cuda.manual_seed(random_seed)"
   ]
  },
  {
   "cell_type": "markdown",
   "metadata": {},
   "source": [
    "# Get Fake Data"
   ]
  },
  {
   "cell_type": "code",
   "execution_count": 9,
   "metadata": {},
   "outputs": [
    {
     "data": {
      "text/plain": [
       "<matplotlib.collections.PathCollection at 0x1675e0cd0>"
      ]
     },
     "execution_count": 9,
     "metadata": {},
     "output_type": "execute_result"
    },
    {
     "data": {
      "image/png": "[encoded data removed]",
      "text/plain": [
       "<Figure size 640x480 with 1 Axes>"
      ]
     },
     "metadata": {},
     "output_type": "display_data"
    }
   ],
   "source": [
    "weight = 0.7\n",
    "bias = 0.3\n",
    "\n",
    "# range\n",
    "start = 0\n",
    "end = 1\n",
    "step = 0.02\n",
    "\n",
    "# create features and labels\n",
    "X = torch.arange(start, end, step).unsqueeze(dim = 1) # features\n",
    "y = weight * X + bias # labels\n",
    "\n",
    "plt.scatter(X, y, c = \"b\", s = 1, label = \"fake data\")\n"
   ]
  },
  {
   "cell_type": "markdown",
   "metadata": {},
   "source": [
    "# Prepare"
   ]
  },
  {
   "cell_type": "code",
   "execution_count": 10,
   "metadata": {},
   "outputs": [],
   "source": [
    "epochs = 1000\n",
    "\n",
    "learning_rate = 0.001\n",
    "\n",
    "epoch_count = []\n",
    "loss_values = []\n",
    "test_loss_values = []"
   ]
  },
  {
   "cell_type": "markdown",
   "metadata": {},
   "source": [
    "# Functions"
   ]
  },
  {
   "cell_type": "code",
   "execution_count": 8,
   "metadata": {},
   "outputs": [],
   "source": [
    "def plot_predictions(\n",
    "    axis,\n",
    "    fig,\n",
    "    train_data,\n",
    "    train_labels, \n",
    "    test_data, \n",
    "    test_labels,\n",
    "    predictions):\n",
    "  \n",
    "    # plt.figure(figsize = (10, 7))\n",
    "    \n",
    "    axis.scatter(train_data, train_labels, c = \"b\", s = 1, label = \"training data\")\n",
    "\n",
    "    axis.scatter(test_data, test_labels, c = \"g\", s = 20, label = \"testing data\")\n",
    "\n",
    "    if predictions is not None:\n",
    "        axis.scatter(test_data, predictions, c = \"r\", s = 10, label = \"predictions\")\n",
    "\n",
    "    axis.legend(prop = {\"size\": 14})\n",
    "\n",
    "def plot_loss(\n",
    "    axis,\n",
    "    fig,\n",
    "    epoch_count,\n",
    "    loss_values,\n",
    "    test_loss_values\n",
    "  ):\n",
    "\n",
    "\n",
    "  loss_values = np.array(torch.tensor(loss_values).cpu().numpy())\n",
    "  test_loss_values = np.array(torch.tensor(test_loss_values).cpu().numpy())\n",
    "\n",
    "  # plt.figure(figsize = (10, 7))\n",
    "\n",
    "  axis.plot(epoch_count, loss_values, label = \"train loss\")\n",
    "  axis.plot(epoch_count, test_loss_values, label = \"test loss\")\n",
    "  # axis.title('training and test loss curves')\n",
    "  fig.suptitle('training and test loss curves')\n",
    "  axis.set_xlabel('epochs')\n",
    "  axis.set_ylabel('loss')\n",
    "  axis.legend()\n",
    "\n",
    "\n",
    "class LinearRegressionModel(nn.Module):\n",
    "  \n",
    "  def __init__(self):\n",
    "    super().__init__()\n",
    "    self.weights = nn.Parameter(\n",
    "        torch.randn(\n",
    "            1, \n",
    "            requires_grad = True, \n",
    "            dtype = torch.float))\n",
    "    self.bias = nn.Parameter(\n",
    "        torch.randn(\n",
    "            1, \n",
    "            requires_grad = True, \n",
    "            dtype = torch.float))\n",
    "    \n",
    "\n",
    "  def forward(self, x: torch.Tensor) -> torch.Tensor:\n",
    "    return self.weights * x + self.bias\n",
    "\n",
    "class LinearRegressionModelWLayer(nn.Module):\n",
    "  \n",
    "  def __init__(self):\n",
    "    super().__init__()\n",
    "    self.linear_layer = nn.Linear(in_features = 1,out_features = 1)\n",
    "\n",
    "  def forward(self, x: torch.Tensor) -> torch.Tensor:\n",
    "    return self.linear_layer(x)\n",
    "\n"
   ]
  },
  {
   "cell_type": "markdown",
   "metadata": {},
   "source": [
    "# Run"
   ]
  },
  {
   "cell_type": "code",
   "execution_count": 11,
   "metadata": {},
   "outputs": [],
   "source": [
    "# SPLIT DATA\n",
    "train_split = int(0.8 * len(X))\n",
    "X_train, y_train = X[:train_split], y[:train_split]\n",
    "X_test, y_test = X[train_split:], y[train_split:]\n",
    "\n",
    "# INIT MODEL\n",
    "model_1 = LinearRegressionModelWLayer()\n",
    "\n",
    "# MOVE MODEL AND DATA TO ONE DEVICE\n",
    "model_1.to(device)\n",
    "\n",
    "X_train = X_train.to(device)\n",
    "y_train = y_train.to(device)\n",
    "X_test = X_test.to(device)\n",
    "y_test = y_test.to(device)\n",
    "\n",
    "# INIT LOSS FUNCTION\n",
    "loss_fn = nn.L1Loss()\n",
    "\n",
    "# INIT OPTIMIZER\n",
    "optimizer = torch.optim.SGD(lr = learning_rate, params = model_1.parameters())"
   ]
  },
  {
   "cell_type": "code",
   "execution_count": 12,
   "metadata": {},
   "outputs": [
    {
     "data": {
      "text/plain": [
       "torch.Size([40, 1])"
      ]
     },
     "execution_count": 12,
     "metadata": {},
     "output_type": "execute_result"
    }
   ],
   "source": [
    "X_train.shape"
   ]
  },
  {
   "cell_type": "code",
   "execution_count": 13,
   "metadata": {},
   "outputs": [
    {
     "name": "stderr",
     "output_type": "stream",
     "text": [
      "  0%|          | 0/1000 [00:00<?, ?it/s]/Users/nicky.reinert/development.private/python/modelling/.venv/lib/python3.9/site-packages/torch/autograd/__init__.py:251: UserWarning: The operator 'aten::sgn.out' is not currently supported on the MPS backend and will fall back to run on the CPU. This may have performance implications. (Triggered internally at /Users/runner/work/pytorch/pytorch/pytorch/aten/src/ATen/mps/MPSFallback.mm:13.)\n",
      "  Variable._execution_engine.run_backward(  # Calls into the C++ engine to run the backward pass\n",
      "  5%|▌         | 51/1000 [00:01<00:15, 62.33it/s]"
     ]
    },
    {
     "name": "stdout",
     "output_type": "stream",
     "text": [
      "Epoch 0 | Loss 0.56 | Test Loss 0.59\n",
      "Epoch 100 | Loss 0.44 | Test Loss 0.45\n"
     ]
    },
    {
     "name": "stderr",
     "output_type": "stream",
     "text": [
      " 27%|██▋       | 269/1000 [00:01<00:02, 331.13it/s]"
     ]
    },
    {
     "name": "stdout",
     "output_type": "stream",
     "text": [
      "Epoch 200 | Loss 0.32 | Test Loss 0.32\n",
      "Epoch 300 | Loss 0.21 | Test Loss 0.18\n"
     ]
    },
    {
     "name": "stderr",
     "output_type": "stream",
     "text": [
      " 49%|████▉     | 492/1000 [00:01<00:01, 490.75it/s]"
     ]
    },
    {
     "name": "stdout",
     "output_type": "stream",
     "text": [
      "Epoch 400 | Loss 0.09 | Test Loss 0.05\n",
      "Epoch 500 | Loss 0.02 | Test Loss 0.04\n"
     ]
    },
    {
     "name": "stderr",
     "output_type": "stream",
     "text": [
      " 66%|██████▌   | 658/1000 [00:02<00:00, 520.75it/s]"
     ]
    },
    {
     "name": "stdout",
     "output_type": "stream",
     "text": [
      "Epoch 600 | Loss 0.02 | Test Loss 0.05\n",
      "Epoch 700 | Loss 0.02 | Test Loss 0.04\n"
     ]
    },
    {
     "name": "stderr",
     "output_type": "stream",
     "text": [
      " 88%|████████▊ | 881/1000 [00:02<00:00, 545.70it/s]"
     ]
    },
    {
     "name": "stdout",
     "output_type": "stream",
     "text": [
      "Epoch 800 | Loss 0.01 | Test Loss 0.03\n",
      "Epoch 900 | Loss 0.01 | Test Loss 0.02\n"
     ]
    },
    {
     "name": "stderr",
     "output_type": "stream",
     "text": [
      "100%|██████████| 1000/1000 [00:02<00:00, 347.94it/s]\n"
     ]
    }
   ],
   "source": [
    "start_epoch = 0 if len(epoch_count) == 0 else epoch_count[-1]\n",
    "\n",
    "for epoch in tqdm(range(start_epoch, start_epoch + epochs)):\n",
    "\n",
    "  # TRAINING MODE ON\n",
    "  model_1.train()\n",
    "\n",
    "  # CALC PREDICTIONS (\"Hey Model, guess some predictions\")\n",
    "  y_pred = model_1(X_train)\n",
    "\n",
    "  # CALC LOSS (\"What's the difference between prediction and reality?\")\n",
    "  loss = loss_fn(y_pred, y_train)\n",
    "\n",
    "  # SET OPTIMIZER TO ZERO (\"Hey Optimizer, Forget the difference\")\n",
    "  optimizer.zero_grad() \n",
    "\n",
    "  # BACK PROPAGATION (\"Hey Model, that's the difference\")\n",
    "  loss.backward() \n",
    "\n",
    "  # UPDATE PARAMETERS (\"Hey Optimizer, there's a difference, adapt paramaters, like weight and bias.\")\n",
    "  optimizer.step()\n",
    "\n",
    "  # EVAL MODE ON\n",
    "  model_1.eval()\n",
    "  with torch.inference_mode():\n",
    "    test_pred = model_1(X_test)\n",
    "    test_loss = loss_fn(test_pred, y_test)\n",
    "    \n",
    "  # VISUALIZE\n",
    "  epoch_count.append(epoch)\n",
    "  loss_values.append(loss)\n",
    "  test_loss_values.append(test_loss)\n",
    "\n",
    "  # LOG\n",
    "  if epoch % int(epochs / 10) == 0:\n",
    "      print(f\"Epoch {epoch} | Loss {loss:.2f} | Test Loss {test_loss:.2f}\")\n"
   ]
  },
  {
   "cell_type": "markdown",
   "metadata": {},
   "source": [
    "# Visualize"
   ]
  },
  {
   "cell_type": "code",
   "execution_count": 14,
   "metadata": {},
   "outputs": [
    {
     "data": {
      "image/png": "[encoded data removed]",
      "text/plain": [
       "<Figure size 2000x500 with 3 Axes>"
      ]
     },
     "metadata": {},
     "output_type": "display_data"
    }
   ],
   "source": [
    "fig, axis = plt.subplots(nrows=1, ncols=3, figsize=(20, 5))\n",
    "\n",
    "plot_predictions(\n",
    "  axis = axis[0],\n",
    "  fig = fig,\n",
    "  train_data = X_train.cpu(),\n",
    "  train_labels = y_train.cpu(),\n",
    "  test_data = X_test.cpu(),\n",
    "  test_labels = y_test.cpu(),\n",
    "  predictions = None\n",
    ")\n",
    "\n",
    "plot_loss(\n",
    "    axis = axis[1],\n",
    "    fig = fig,\n",
    "    epoch_count = epoch_count,\n",
    "    loss_values = loss_values,\n",
    "    test_loss_values = test_loss_values\n",
    ")\n",
    "\n",
    "model_1.eval() \n",
    "\n",
    "with torch.inference_mode():\n",
    "  y_preds = model_1(X_test)\n",
    "\n",
    "plot_predictions(\n",
    "  axis = axis[2],\n",
    "  fig = fig,\n",
    "  train_data = X_train.cpu(),\n",
    "  train_labels = y_train.cpu(),\n",
    "  test_data = X_test.cpu(),\n",
    "  test_labels = y_test.cpu(),\n",
    "  predictions = y_preds.cpu()\n",
    ")"
   ]
  },
  {
   "cell_type": "markdown",
   "metadata": {},
   "source": [
    "# Save/Load"
   ]
  },
  {
   "cell_type": "code",
   "execution_count": 111,
   "metadata": {},
   "outputs": [
    {
     "data": {
      "text/plain": [
       "tensor([[True],\n",
       "        [True],\n",
       "        [True],\n",
       "        [True],\n",
       "        [True],\n",
       "        [True],\n",
       "        [True],\n",
       "        [True],\n",
       "        [True],\n",
       "        [True]])"
      ]
     },
     "execution_count": 111,
     "metadata": {},
     "output_type": "execute_result"
    }
   ],
   "source": [
    "MODEL_PATH = Path(\"models\")\n",
    "MODEL_PATH.mkdir(parents = True, exist_ok = True)\n",
    "MODEL_NAME = \"model_1.pth\"\n",
    "MODEL_SAVE_PATH = MODEL_PATH / MODEL_NAME\n",
    "# fake data we want to find\n",
    "\n",
    "\n",
    "torch.save(obj = model_1.state_dict(), f = MODEL_SAVE_PATH)\n",
    "model_1_loaded = LinearRegressionModelWLayer()\n",
    "model_1_loaded.load_state_dict(torch.load(MODEL_SAVE_PATH))\n",
    "\n",
    "model_1_loaded.to(device)\n",
    "model_1_loaded.state_dict() == model_1.state_dict()\n",
    "\n",
    "model_1_loaded.eval()\n",
    "with torch.inference_mode():\n",
    "    model_1_loaded_preds = model_1_loaded(X_test)\n",
    "\n",
    "y_preds == model_1_loaded_preds"
   ]
  }
 ],
 "metadata": {
  "kernelspec": {
   "display_name": "Python 3",
   "language": "python",
   "name": "python3"
  },
  "language_info": {
   "codemirror_mode": {
    "name": "ipython",
    "version": 3
   },
   "file_extension": ".py",
   "mimetype": "text/x-python",
   "name": "python",
   "nbconvert_exporter": "python",
   "pygments_lexer": "ipython3",
   "version": "3.9.6"
  }
 },
 "nbformat": 4,
 "nbformat_minor": 2
}
