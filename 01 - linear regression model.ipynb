{
 "cells": [
  {
   "cell_type": "markdown",
   "metadata": {},
   "source": [
    "# Dependencies"
   ]
  },
  {
   "cell_type": "code",
   "execution_count": 4,
   "metadata": {},
   "outputs": [
    {
     "name": "stdout",
     "output_type": "stream",
     "text": [
      "Torch version: 2.1.0.dev20230718\n",
      "Using device: cpu\n"
     ]
    },
    {
     "name": "stderr",
     "output_type": "stream",
     "text": [
      "/usr/local/lib/python3.11/site-packages/tqdm/auto.py:21: TqdmWarning: IProgress not found. Please update jupyter and ipywidgets. See https://ipywidgets.readthedocs.io/en/stable/user_install.html\n",
      "  from .autonotebook import tqdm as notebook_tqdm\n"
     ]
    }
   ],
   "source": [
    "import torch\n",
    "import numpy as np\n",
    "from torch import nn\n",
    "import matplotlib.pyplot as plt\n",
    "from pathlib import Path\n",
    "from tqdm.auto import tqdm\n",
    "\n",
    "print(f\"Torch version: {torch.__version__}\")\n",
    "\n",
    "device = \"cuda\" if torch.cuda.is_available() else \"cpu\"\n",
    "\n",
    "print(f\"Using device: {device}\")\n",
    "\n",
    "random_seed = 42\n",
    "\n",
    "torch.manual_seed(random_seed)\n",
    "torch.cuda.manual_seed(random_seed)"
   ]
  },
  {
   "cell_type": "markdown",
   "metadata": {},
   "source": [
    "# Functions"
   ]
  },
  {
   "cell_type": "code",
   "execution_count": 5,
   "metadata": {},
   "outputs": [],
   "source": [
    "def plot_predictions(\n",
    "    axis,\n",
    "    fig,\n",
    "    train_data,\n",
    "    train_labels, \n",
    "    test_data, \n",
    "    test_labels,\n",
    "    predictions):\n",
    "  \n",
    "    # plt.figure(figsize = (10, 7))\n",
    "    \n",
    "    axis.scatter(train_data, train_labels, c = \"b\", s = 1, label = \"training data\")\n",
    "\n",
    "    axis.scatter(test_data, test_labels, c = \"g\", s = 20, label = \"testing data\")\n",
    "\n",
    "    if predictions is not None:\n",
    "        axis.scatter(test_data, predictions, c = \"r\", s = 10, label = \"predictions\")\n",
    "\n",
    "    axis.legend(prop = {\"size\": 14})\n",
    "\n",
    "def plot_loss(\n",
    "    axis,\n",
    "    fig,\n",
    "    epoch_count,\n",
    "    loss_values,\n",
    "    test_loss_values\n",
    "  ):\n",
    "\n",
    "\n",
    "  loss_values = np.array(torch.tensor(loss_values).cpu().numpy())\n",
    "  test_loss_values = np.array(torch.tensor(test_loss_values).cpu().numpy())\n",
    "\n",
    "  # plt.figure(figsize = (10, 7))\n",
    "\n",
    "  axis.plot(epoch_count, loss_values, label = \"train loss\")\n",
    "  axis.plot(epoch_count, test_loss_values, label = \"test loss\")\n",
    "  # axis.title('training and test loss curves')\n",
    "  fig.suptitle('training and test loss curves')\n",
    "  axis.set_xlabel('epochs')\n",
    "  axis.set_ylabel('loss')\n",
    "  axis.legend()\n",
    "\n",
    "\n",
    "class LinearRegressionModel(nn.Module):\n",
    "  \n",
    "  def __init__(self):\n",
    "    super().__init__()\n",
    "    self.weights = nn.Parameter(\n",
    "        torch.randn(\n",
    "            1, \n",
    "            requires_grad = True, \n",
    "            dtype = torch.float))\n",
    "    self.bias = nn.Parameter(\n",
    "        torch.randn(\n",
    "            1, \n",
    "            requires_grad = True, \n",
    "            dtype = torch.float))\n",
    "    \n",
    "\n",
    "  def forward(self, x: torch.Tensor) -> torch.Tensor:\n",
    "    return self.weights * x + self.bias\n",
    "\n",
    "class LinearRegressionModelWLayer(nn.Module):\n",
    "  \n",
    "  def __init__(self):\n",
    "    super().__init__()\n",
    "    self.linear_layer = nn.Linear(in_features = 1,out_features = 1)\n",
    "\n",
    "  def forward(self, x: torch.Tensor) -> torch.Tensor:\n",
    "    return self.linear_layer(x)\n",
    "\n"
   ]
  },
  {
   "cell_type": "markdown",
   "metadata": {},
   "source": [
    "# Get Fake Data"
   ]
  },
  {
   "cell_type": "code",
   "execution_count": 44,
   "metadata": {},
   "outputs": [
    {
     "data": {
      "text/plain": [
       "<matplotlib.collections.PathCollection at 0x12b785810>"
      ]
     },
     "execution_count": 44,
     "metadata": {},
     "output_type": "execute_result"
    },
    {
     "data": {
      "image/png": "[encoded data removed]",
      "text/plain": [
       "<Figure size 640x480 with 1 Axes>"
      ]
     },
     "metadata": {},
     "output_type": "display_data"
    }
   ],
   "source": [
    "weight = 0.7\n",
    "bias = 0.3\n",
    "\n",
    "# range\n",
    "start = 0\n",
    "end = 1\n",
    "step = 0.02\n",
    "\n",
    "# create features and labels\n",
    "X = torch.arange(start, end, step).unsqueeze(dim = 1) # features\n",
    "y = weight * X + bias # labels\n",
    "\n",
    "plt.scatter(X, y, c = \"b\", s = 1, label = \"fake data\")\n"
   ]
  },
  {
   "cell_type": "markdown",
   "metadata": {},
   "source": [
    "# Prepare"
   ]
  },
  {
   "cell_type": "code",
   "execution_count": 45,
   "metadata": {},
   "outputs": [],
   "source": [
    "epochs = 1000\n",
    "\n",
    "learning_rate = 0.001\n",
    "\n",
    "epoch_count = []\n",
    "loss_values = []\n",
    "test_loss_values = []"
   ]
  },
  {
   "cell_type": "markdown",
   "metadata": {},
   "source": [
    "# Run"
   ]
  },
  {
   "cell_type": "code",
   "execution_count": 59,
   "metadata": {},
   "outputs": [],
   "source": [
    "# SPLIT DATA\n",
    "train_split = int(0.8 * len(X))\n",
    "X_train, y_train = X[:train_split], y[:train_split]\n",
    "X_test, y_test = X[train_split:], y[train_split:]\n",
    "\n",
    "# INIT MODEL\n",
    "model_1 = LinearRegressionModelWLayer()\n",
    "\n",
    "# MOVE MODEL AND DATA TO ONE DEVICE\n",
    "model_1.to(device)\n",
    "\n",
    "X_train = X_train.to(device)\n",
    "y_train = y_train.to(device)\n",
    "X_test = X_test.to(device)\n",
    "y_test = y_test.to(device)\n",
    "\n",
    "# INIT LOSS FUNCTION\n",
    "loss_fn = nn.L1Loss()\n",
    "\n",
    "# INIT OPTIMIZER\n",
    "optimizer = torch.optim.SGD(lr = learning_rate, params = model_1.parameters())"
   ]
  },
  {
   "cell_type": "code",
   "execution_count": 61,
   "metadata": {},
   "outputs": [
    {
     "data": {
      "text/plain": [
       "torch.Size([19519, 1])"
      ]
     },
     "execution_count": 61,
     "metadata": {},
     "output_type": "execute_result"
    }
   ],
   "source": [
    "X_train.shape"
   ]
  },
  {
   "cell_type": "code",
   "execution_count": 47,
   "metadata": {},
   "outputs": [
    {
     "name": "stderr",
     "output_type": "stream",
     "text": [
      " 14%|█▍        | 144/1000 [00:00<00:00, 1435.63it/s]"
     ]
    },
    {
     "name": "stdout",
     "output_type": "stream",
     "text": [
      "Epoch 0 | Loss 0.53 | Test Loss 0.63\n",
      "Epoch 100 | Loss 0.41 | Test Loss 0.50\n",
      "Epoch 200 | Loss 0.30 | Test Loss 0.36\n"
     ]
    },
    {
     "name": "stderr",
     "output_type": "stream",
     "text": [
      " 68%|██████▊   | 684/1000 [00:00<00:00, 1712.06it/s]"
     ]
    },
    {
     "name": "stdout",
     "output_type": "stream",
     "text": [
      "Epoch 300 | Loss 0.18 | Test Loss 0.23\n",
      "Epoch 400 | Loss 0.07 | Test Loss 0.09\n",
      "Epoch 500 | Loss 0.01 | Test Loss 0.01\n",
      "Epoch 600 | Loss 0.00 | Test Loss 0.01\n"
     ]
    },
    {
     "name": "stderr",
     "output_type": "stream",
     "text": [
      "100%|██████████| 1000/1000 [00:00<00:00, 1592.14it/s]"
     ]
    },
    {
     "name": "stdout",
     "output_type": "stream",
     "text": [
      "Epoch 700 | Loss 0.00 | Test Loss 0.00\n",
      "Epoch 800 | Loss 0.00 | Test Loss 0.00\n",
      "Epoch 900 | Loss 0.00 | Test Loss 0.00\n"
     ]
    },
    {
     "name": "stderr",
     "output_type": "stream",
     "text": [
      "\n"
     ]
    }
   ],
   "source": [
    "start_epoch = 0 if len(epoch_count) == 0 else epoch_count[-1]\n",
    "\n",
    "for epoch in tqdm(range(start_epoch, start_epoch + epochs)):\n",
    "\n",
    "  # TRAINING MODE ON\n",
    "  model_1.train()\n",
    "\n",
    "  # CALC PREDICTIONS\n",
    "  y_pred = model_1(X_train)\n",
    "\n",
    "  # CALC LOSS\n",
    "  loss = loss_fn(y_pred, y_train)\n",
    "\n",
    "  # SET OPTIMIZER TO ZERO\n",
    "  optimizer.zero_grad()\n",
    "\n",
    "  # BACK PROPAGATION\n",
    "  loss.backward() \n",
    "\n",
    "  # UPDATE PARAMETERS\n",
    "  optimizer.step()\n",
    "\n",
    "  # EVAL MODE ON\n",
    "  model_1.eval()\n",
    "  with torch.inference_mode():\n",
    "    test_pred = model_1(X_test)  \n",
    "    test_loss = loss_fn(test_pred, y_test)\n",
    "    \n",
    "  # VISULIZE\n",
    "  epoch_count.append(epoch)\n",
    "  loss_values.append(loss)\n",
    "  test_loss_values.append(test_loss)\n",
    "\n",
    "  # LOG\n",
    "  if epoch % int(epochs / 10) == 0:\n",
    "      print(f\"Epoch {epoch} | Loss {loss:.2f} | Test Loss {test_loss:.2f}\")\n"
   ]
  },
  {
   "cell_type": "markdown",
   "metadata": {},
   "source": [
    "# Visualize"
   ]
  },
  {
   "cell_type": "code",
   "execution_count": 53,
   "metadata": {},
   "outputs": [
    {
     "data": {
      "image/png": "[encoded data removed]",
      "text/plain": [
       "<Figure size 2000x500 with 3 Axes>"
      ]
     },
     "metadata": {},
     "output_type": "display_data"
    }
   ],
   "source": [
    "fig, axis = plt.subplots(nrows=1, ncols=3, figsize=(20, 5))\n",
    "\n",
    "plot_predictions(\n",
    "  axis = axis[0],\n",
    "  fig = fig,\n",
    "  train_data = X_train.cpu(),\n",
    "  train_labels = y_train.cpu(),\n",
    "  test_data = X_test.cpu(),\n",
    "  test_labels = y_test.cpu(),\n",
    "  predictions = None\n",
    ")\n",
    "\n",
    "plot_loss(\n",
    "    axis = axis[1],\n",
    "    fig = fig,\n",
    "    epoch_count = epoch_count,\n",
    "    loss_values = loss_values,\n",
    "    test_loss_values = test_loss_values\n",
    ")\n",
    "\n",
    "model_1.eval() \n",
    "\n",
    "with torch.inference_mode():\n",
    "  y_preds = model_1(X_test)\n",
    "\n",
    "plot_predictions(\n",
    "  axis = axis[2],\n",
    "  fig = fig,\n",
    "  train_data = X_train.cpu(),\n",
    "  train_labels = y_train.cpu(),\n",
    "  test_data = X_test.cpu(),\n",
    "  test_labels = y_test.cpu(),\n",
    "  predictions = y_preds.cpu()\n",
    ")"
   ]
  },
  {
   "cell_type": "markdown",
   "metadata": {},
   "source": [
    "# Save/Load"
   ]
  },
  {
   "cell_type": "code",
   "execution_count": 111,
   "metadata": {},
   "outputs": [
    {
     "data": {
      "text/plain": [
       "tensor([[True],\n",
       "        [True],\n",
       "        [True],\n",
       "        [True],\n",
       "        [True],\n",
       "        [True],\n",
       "        [True],\n",
       "        [True],\n",
       "        [True],\n",
       "        [True]])"
      ]
     },
     "execution_count": 111,
     "metadata": {},
     "output_type": "execute_result"
    }
   ],
   "source": [
    "MODEL_PATH = Path(\"models\")\n",
    "MODEL_PATH.mkdir(parents = True, exist_ok = True)\n",
    "MODEL_NAME = \"model_1.pth\"\n",
    "MODEL_SAVE_PATH = MODEL_PATH / MODEL_NAME\n",
    "# fake data we want to find\n",
    "\n",
    "\n",
    "torch.save(obj = model_1.state_dict(), f = MODEL_SAVE_PATH)\n",
    "model_1_loaded = LinearRegressionModelWLayer()\n",
    "model_1_loaded.load_state_dict(torch.load(MODEL_SAVE_PATH))\n",
    "\n",
    "model_1_loaded.to(device)\n",
    "model_1_loaded.state_dict() == model_1.state_dict()\n",
    "\n",
    "model_1_loaded.eval()\n",
    "with torch.inference_mode():\n",
    "    model_1_loaded_preds = model_1_loaded(X_test)\n",
    "\n",
    "y_preds == model_1_loaded_preds"
   ]
  }
 ],
 "metadata": {
  "kernelspec": {
   "display_name": "Python 3",
   "language": "python",
   "name": "python3"
  },
  "language_info": {
   "codemirror_mode": {
    "name": "ipython",
    "version": 3
   },
   "file_extension": ".py",
   "mimetype": "text/x-python",
   "name": "python",
   "nbconvert_exporter": "python",
   "pygments_lexer": "ipython3",
   "version": "3.11.4"
  }
 },
 "nbformat": 4,
 "nbformat_minor": 2
}
