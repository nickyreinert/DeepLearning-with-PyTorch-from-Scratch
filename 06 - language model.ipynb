{
 "cells": [
  {
   "cell_type": "markdown",
   "id": "f26fadf3",
   "metadata": {},
   "source": [
    "# Dependencies"
   ]
  },
  {
   "cell_type": "markdown",
   "id": "f84aa063",
   "metadata": {},
   "source": [
    "## Optional: GDrive connection\n",
    "If you want to run this on Google Colab, you can connect the notebook to your Google Drive to access training data from there. "
   ]
  },
  {
   "cell_type": "code",
   "execution_count": null,
   "id": "ffb6ff95",
   "metadata": {},
   "outputs": [],
   "source": [
    "from google.colab import drive\n",
    "drive.mount('/content/drive')"
   ]
  },
  {
   "cell_type": "markdown",
   "id": "3b3bea7a",
   "metadata": {},
   "source": [
    "## Libraries and Parameters"
   ]
  },
  {
   "cell_type": "code",
   "execution_count": 34,
   "id": "c351b7b9",
   "metadata": {},
   "outputs": [
    {
     "name": "stdout",
     "output_type": "stream",
     "text": [
      "Running on `mps`\n"
     ]
    }
   ],
   "source": [
    "import torch\n",
    "import torch.nn as nn\n",
    "import mmap\n",
    "import time\n",
    "import random\n",
    "import pickle\n",
    "from torchinfo import summary\n",
    "import matplotlib.pyplot as plt\n",
    "\n",
    "source_data_path = \"./\"\n",
    "source_data = \"text.txt\"\n",
    "model_export = \"model.pth\"\n",
    "\n",
    "device = 'cuda' if torch.cuda.is_available() else 'cpu'\n",
    "\n",
    "device = \"mps\" if torch.backends.mps.is_available() else device\n",
    "\n",
    "print(f'Running on `{device}`')\n",
    "\n",
    "batch_size = 8 # how many blocks per batch\n",
    "block_size = 8 # length of sequence of tokens, how many chars per block\n",
    "epochs = 1000\n",
    "learning_rate = 0.0001\n",
    "embedding_size = 128 # the size of the embedding vectors that each token will be assigned to, like if A = 1, 1 would be encoded to a vector of size 128\n",
    "num_blocks = 4 # amount of blocks\n",
    "num_heads = 4 # amount of heads per blocks, should be bigger as embedding_size, see next line\n",
    "head_size = embedding_size // num_heads # dont change this, defining it here for better readability\n",
    "dropout_rate = 0.2 # how many nodes to drop per each epoch\n",
    "hidden_units_factor = 4 # how many hidden units for the sequential layer stack, using a factor here, multiplied with embedding_size\n",
    "train_split = 0.8\n",
    "\n",
    "losses = {}"
   ]
  },
  {
   "cell_type": "markdown",
   "id": "3b370ca8",
   "metadata": {},
   "source": [
    "## Data\n",
    "I am giving you two options here: Either create a dummy data set with a lot of simple repetitions. This allows the model to learn fast. Or choose a real world example.\n",
    "\n",
    "For this I am using a very **very small dataset** only, as this is for training purposes only. If you are looking for better results, you may refer to e.g. **OpenWebText** or other available data sets. \n",
    "\n",
    "We are going to read the data and split it into two parts: **Training** data and **testing** data. \n",
    "\n",
    "Next we get a list of all used `chars` and create two tables for encoding and decoding(`char_table` and `reverse_char_table`) text into vector of integers. The `vocab_size` shows the amount of different chars in the text."
   ]
  },
  {
   "cell_type": "markdown",
   "id": "393be78c",
   "metadata": {},
   "source": [
    "### Dummy Data"
   ]
  },
  {
   "cell_type": "code",
   "execution_count": 26,
   "id": "90e9f846",
   "metadata": {},
   "outputs": [],
   "source": [
    "sentence = \"Hello World! Hello World! Hello World! \\n\"\n",
    "sentence = \"ABA\\n\"\n",
    "f_dummy_data = open(f\"{source_data_path}/text.txt\", 'w')\n",
    "f_dummy_data.write(sentence * 1000)\n",
    "f_dummy_data.close()"
   ]
  },
  {
   "cell_type": "markdown",
   "id": "b03ab082",
   "metadata": {},
   "source": [
    "### Prepare"
   ]
  },
  {
   "cell_type": "code",
   "execution_count": 27,
   "id": "516b1cf6",
   "metadata": {},
   "outputs": [
    {
     "name": "stdout",
     "output_type": "stream",
     "text": [
      "Vocabulary size is 4\n"
     ]
    }
   ],
   "source": [
    "chars = \"\"\n",
    "full_text = []\n",
    "source_data_train = f\"train_{source_data}\"\n",
    "source_data_test = f\"test_{source_data}\"\n",
    "\n",
    "f_full_text = open(f\"{source_data_path}/{source_data}\", \"r\")\n",
    "f_training_text = open(f\"{source_data_path}/{source_data_train}\", 'w')\n",
    "f_test_test = open(f\"{source_data_path}/{source_data_test}\", 'w')\n",
    "\n",
    "for line in f_full_text:\n",
    "  r = random.random()\n",
    "  full_text.append(line)\n",
    "  if (0.0 <=  r <= train_split):\n",
    "    f_training_text.write(line)\n",
    "  else:\n",
    "    f_test_test.write(line)\n",
    "\n",
    "f_full_text.close()\n",
    "f_training_text.close()\n",
    "f_test_test.close()\n",
    "\n",
    "chars = sorted(list(set(' '.join(full_text))))\n",
    "char_table = {char:index for index,char in enumerate(chars)}\n",
    "reverse_char_table = {index:char for index,char in enumerate(char_table)}\n",
    "\n",
    "vocab_size = len(chars)\n",
    "del full_text\n",
    "\n",
    "print(f'Vocabulary size is {vocab_size}')"
   ]
  },
  {
   "cell_type": "markdown",
   "id": "205869ed",
   "metadata": {},
   "source": [
    "## Helper Functions"
   ]
  },
  {
   "cell_type": "markdown",
   "id": "9ec3a686",
   "metadata": {},
   "source": [
    "We will create four functions:\n",
    "`encode()` and `decode()` will allow us to convert text to a vector of integers and back. \n",
    "\n",
    "`get_batch` and `get_random_chunk` will randomly read text chunks from our **training** and **testing** data set."
   ]
  },
  {
   "cell_type": "code",
   "execution_count": 28,
   "id": "506ad003",
   "metadata": {},
   "outputs": [],
   "source": [
    "def encode(char_table: list, text: str = None):\n",
    "  return [char_table[char] for char in text]\n",
    "\n",
    "def decode(char_table: list, numbers: list = []):\n",
    "  return ''.join([char_table[index] for index in numbers])\n",
    "\n",
    "# memory map for using small snippets of text from a single file of any size\n",
    "def get_random_chunk(split):\n",
    "    filename = f\"{source_data_path}/{source_data_train}\" if split == 'train' else f\"{source_data_path}/{source_data_test}\"\n",
    "    with open(filename, 'r') as f:\n",
    "        with mmap.mmap(f.fileno(), 0, access=mmap.ACCESS_READ) as mm:\n",
    "            # Determine the file size and a random position to start reading\n",
    "            file_size = len(mm)\n",
    "            start_pos = random.randint(0, (file_size) - block_size * batch_size)\n",
    "\n",
    "            # Seek to the random position and read data binary\n",
    "            mm.seek(start_pos)\n",
    "            raw_data = mm.read(block_size * batch_size - 1)\n",
    "\n",
    "            # Decode the block to a string, ignoring any invalid byte sequences\n",
    "            data = raw_data.decode('utf-8', errors='ignore').replace('\\r', '')\n",
    "\n",
    "            # encode to torch tensor using char table\n",
    "            encoded_data = torch.tensor(encode(char_table = char_table, text = data), dtype=torch.long)\n",
    "\n",
    "    return encoded_data\n",
    "\n",
    "\n",
    "def get_batch(split):\n",
    "    \n",
    "    encoded_data = get_random_chunk(split)\n",
    "    random_block_start_indices = torch.randint(len(encoded_data) - block_size, (batch_size,))\n",
    "\n",
    "    input_sequences = torch.stack([encoded_data[index:index + block_size] for index in random_block_start_indices])\n",
    "    target_sequences = torch.stack([encoded_data[index + 1:index + block_size + 1] for index in random_block_start_indices])\n",
    "\n",
    "    return input_sequences.to(device), target_sequences.to(device)"
   ]
  },
  {
   "cell_type": "markdown",
   "id": "d279da1e",
   "metadata": {},
   "source": [
    "The following part just tests encoding and decoding feature:"
   ]
  },
  {
   "cell_type": "code",
   "execution_count": 29,
   "id": "d93ed8ef",
   "metadata": {},
   "outputs": [
    {
     "data": {
      "text/plain": [
       "{'\\n': 0, ' ': 1, 'A': 2, 'B': 3}"
      ]
     },
     "execution_count": 29,
     "metadata": {},
     "output_type": "execute_result"
    }
   ],
   "source": [
    "char_table"
   ]
  },
  {
   "cell_type": "code",
   "execution_count": 30,
   "id": "33eded27",
   "metadata": {},
   "outputs": [
    {
     "ename": "KeyError",
     "evalue": "'H'",
     "output_type": "error",
     "traceback": [
      "\u001b[0;31m---------------------------------------------------------------------------\u001b[0m",
      "\u001b[0;31mKeyError\u001b[0m                                  Traceback (most recent call last)",
      "Cell \u001b[0;32mIn[30], line 2\u001b[0m\n\u001b[1;32m      1\u001b[0m text \u001b[38;5;241m=\u001b[39m \u001b[38;5;124m'\u001b[39m\u001b[38;5;124mHello World!\u001b[39m\u001b[38;5;124m'\u001b[39m\n\u001b[0;32m----> 2\u001b[0m encoded_text \u001b[38;5;241m=\u001b[39m \u001b[43mencode\u001b[49m\u001b[43m(\u001b[49m\u001b[43mchar_table\u001b[49m\u001b[43m,\u001b[49m\u001b[43m \u001b[49m\u001b[38;5;124;43m'\u001b[39;49m\u001b[38;5;124;43mHello World!\u001b[39;49m\u001b[38;5;124;43m'\u001b[39;49m\u001b[43m)\u001b[49m\n\u001b[1;32m      3\u001b[0m decoded_text \u001b[38;5;241m=\u001b[39m decode(reverse_char_table, encoded_text)\n\u001b[1;32m      4\u001b[0m \u001b[38;5;28mprint\u001b[39m(\u001b[38;5;124mf\u001b[39m\u001b[38;5;124m'\u001b[39m\u001b[38;5;124mEncoding `\u001b[39m\u001b[38;5;132;01m{\u001b[39;00mtext\u001b[38;5;132;01m}\u001b[39;00m\u001b[38;5;124m ` to  `\u001b[39m\u001b[38;5;132;01m{\u001b[39;00mencoded_text\u001b[38;5;132;01m}\u001b[39;00m\u001b[38;5;124m ` and back to  `\u001b[39m\u001b[38;5;132;01m{\u001b[39;00mdecoded_text\u001b[38;5;132;01m}\u001b[39;00m\u001b[38;5;124m `\u001b[39m\u001b[38;5;124m'\u001b[39m)\n",
      "Cell \u001b[0;32mIn[28], line 2\u001b[0m, in \u001b[0;36mencode\u001b[0;34m(char_table, text)\u001b[0m\n\u001b[1;32m      1\u001b[0m \u001b[38;5;28;01mdef\u001b[39;00m \u001b[38;5;21mencode\u001b[39m(char_table: \u001b[38;5;28mlist\u001b[39m, text: \u001b[38;5;28mstr\u001b[39m \u001b[38;5;241m=\u001b[39m \u001b[38;5;28;01mNone\u001b[39;00m):\n\u001b[0;32m----> 2\u001b[0m   \u001b[38;5;28;01mreturn\u001b[39;00m [char_table[char] \u001b[38;5;28;01mfor\u001b[39;00m char \u001b[38;5;129;01min\u001b[39;00m text]\n",
      "Cell \u001b[0;32mIn[28], line 2\u001b[0m, in \u001b[0;36m<listcomp>\u001b[0;34m(.0)\u001b[0m\n\u001b[1;32m      1\u001b[0m \u001b[38;5;28;01mdef\u001b[39;00m \u001b[38;5;21mencode\u001b[39m(char_table: \u001b[38;5;28mlist\u001b[39m, text: \u001b[38;5;28mstr\u001b[39m \u001b[38;5;241m=\u001b[39m \u001b[38;5;28;01mNone\u001b[39;00m):\n\u001b[0;32m----> 2\u001b[0m   \u001b[38;5;28;01mreturn\u001b[39;00m [\u001b[43mchar_table\u001b[49m\u001b[43m[\u001b[49m\u001b[43mchar\u001b[49m\u001b[43m]\u001b[49m \u001b[38;5;28;01mfor\u001b[39;00m char \u001b[38;5;129;01min\u001b[39;00m text]\n",
      "\u001b[0;31mKeyError\u001b[0m: 'H'"
     ]
    }
   ],
   "source": [
    "text = 'Hello World!'\n",
    "encoded_text = encode(char_table, 'Hello World!')\n",
    "decoded_text = decode(reverse_char_table, encoded_text)\n",
    "print(f'Encoding `{text} ` to  `{encoded_text} ` and back to  `{decoded_text} `')"
   ]
  },
  {
   "cell_type": "markdown",
   "id": "643755c6",
   "metadata": {},
   "source": [
    "## Model Classes\n",
    "This part defines the model structure. I am referring to the Multi-Head attention approach. I am not going into detail about mathematics. \n",
    "\n",
    "This is the comprised structure:\n",
    "\n",
    "- create **token** and **position embeddings** of the input text and pass them to\n",
    "- a sequential layer stack of `num_blocks` blocks \n",
    "  - pass embeddings to one **MultiHeadAttention** per block consisting of `num_heads` of heads for **self-attention calculation**\n",
    "    - pass result to a linear **projection layer**\n",
    "    - apply dropout of `dropout_rate` nodes \n",
    "  - pass results to the first **normalisation layer**\n",
    "  - pass results to a **feed forward layer**, which consists of a sequential layer stack of\n",
    "    - a linear layer\n",
    "    - a non-linear ReLU layer\n",
    "    - a linear layer\n",
    "    - another dropout layer\n",
    "  - pass results to the second **normalisation layer**\n",
    "- pass results to another **normalisation layer**\n",
    "- pass results to a final **linear layer**\n",
    "- reset the weights"
   ]
  },
  {
   "cell_type": "code",
   "execution_count": 235,
   "id": "7c5efd26",
   "metadata": {},
   "outputs": [],
   "source": [
    "class Head(nn.Module):\n",
    "\n",
    "    def __init__(self):\n",
    "        super().__init__()\n",
    "        \n",
    "        self.linear_layer_keys = nn.Linear(in_features=embedding_size, out_features=head_size, bias=False)\n",
    "        self.linear_layer_queries = nn.Linear(in_features=embedding_size, out_features=head_size, bias=False)\n",
    "        self.linear_layer_values = nn.Linear(in_features=embedding_size, out_features=head_size, bias=False)\n",
    "        \n",
    "        # lower triangular matrix\n",
    "        # .register_buffer register \"not trainable parameters\" for the model\n",
    "        # .tril() takes a tensor and changes all values above a diagonal (top left to bottom right) to 0\n",
    "        self.register_buffer('tril', torch.tril(torch.ones(block_size, block_size))) \n",
    "\n",
    "        # forget nodes\n",
    "        self.dropout = nn.Dropout(dropout_rate)\n",
    "\n",
    "    def forward(self, X_embeddings):\n",
    "        \n",
    "        # input shape (batch_size, sequence_length (time steps), number of features (channels))\n",
    "        # output shape (batch_size, sequence_length (time steps), head_size)\n",
    "            \n",
    "        keys = self.linear_layer_keys(X_embeddings)\n",
    "        queries = self.linear_layer_queries(X_embeddings)\n",
    "        \n",
    "        # compute attention scores (\"affinities\")\n",
    "        \n",
    "        # the core of this model: the attention mechanism\n",
    "        # scaled dot product attention by matrix multiplication and scaling the result using square root of the head_size\n",
    "        # we could either divide by square root of head size or multiple by inverse square root of head size, result is the same\n",
    "        scaled_attention_scores = queries @ keys.transpose(-2,-1) * keys.shape[-1] ** -0.5\n",
    "        \n",
    "        # \"sort out\" all the weights above the diagonale to make sure a token depends/attends on/to previous tokens\n",
    "        causal_attention_scores = scaled_attention_scores.masked_fill(self.tril[:block_size, :block_size] == 0, float('-inf'))\n",
    "        \n",
    "        # normalize probabilities\n",
    "        weights = torch.softmax(causal_attention_scores, dim=-1)\n",
    "        \n",
    "        # forget some weights\n",
    "        weights = self.dropout(weights)\n",
    "\n",
    "        # perform the weighted aggregation of the values\n",
    "        values = self.linear_layer_values(X_embeddings)\n",
    "        weighted_values = weights @ values\n",
    "        return weighted_values\n",
    "\n",
    "class MultiHeadAttention(nn.Module):\n",
    "    \"\"\" multiple heads of self-attention in parallel \"\"\"\n",
    "\n",
    "    def __init__(self):\n",
    "        super().__init__()\n",
    "        \n",
    "        self.heads = nn.ModuleList([Head() for head in range(num_heads)])\n",
    "        self.projections = nn.Linear(head_size * num_heads, embedding_size)\n",
    "        self.dropout = nn.Dropout(dropout_rate)\n",
    "\n",
    "    def forward(self, X_embeddings):\n",
    "        weighted_values = torch.cat([head(X_embeddings) for head in self.heads], dim=-1) \n",
    "        weighted_values = self.dropout(self.projections(weighted_values))\n",
    "        return weighted_values\n",
    "\n",
    "class FeedForward(nn.Module):\n",
    "    \"\"\" a simple linear layer followed by a non-linearity \"\"\"\n",
    "\n",
    "    def __init__(self, n_embd):\n",
    "        super().__init__()\n",
    "        self.linear_layer_stack = nn.Sequential(\n",
    "            nn.Linear(in_features = embedding_size, out_features = hidden_units_factor * embedding_size),\n",
    "            nn.ReLU(),\n",
    "            nn.Linear(in_features = hidden_units_factor * embedding_size, out_features = embedding_size),\n",
    "            nn.Dropout(dropout_rate),\n",
    "        )\n",
    "\n",
    "    def forward(self, X):\n",
    "        return self.linear_layer_stack(X)\n",
    "\n",
    "class Block(nn.Module):\n",
    "    \"\"\" Transformer block: communication followed by computation \"\"\"\n",
    "\n",
    "    def __init__(self):\n",
    "        super().__init__()\n",
    "        \n",
    "        self.self_attention_layer = MultiHeadAttention()\n",
    "        self.normalisation_layer_1 = nn.LayerNorm(embedding_size)\n",
    "        \n",
    "        self.feed_forward_layer = FeedForward(embedding_size)\n",
    "        self.normalisation_layer_2 = nn.LayerNorm(embedding_size)\n",
    "\n",
    "    def forward(self, X_embeddings):\n",
    "        \n",
    "        y = self.self_attention_layer(X_embeddings)\n",
    "        X_embeddings = self.normalisation_layer_1(X_embeddings + y)\n",
    "        \n",
    "        y = self.feed_forward_layer(X_embeddings)\n",
    "        X_embeddings = self.normalisation_layer_2(X_embeddings + y)\n",
    "        \n",
    "        return X_embeddings\n",
    "\n",
    "class GPTLanguageModel(nn.Module):\n",
    "    \n",
    "    def __init__(self, vocab_size):\n",
    "        super().__init__()\n",
    "        \n",
    "        self.token_embedding_table = nn.Embedding(num_embeddings=vocab_size, embedding_dim=embedding_size)\n",
    "        self.position_embedding_table = nn.Embedding(num_embeddings=block_size, embedding_dim=embedding_size)\n",
    "        \n",
    "        self.blocks = nn.Sequential(*[Block() for layer in range(num_blocks)])\n",
    "        self.normalisation_layer = nn.LayerNorm(embedding_size)\n",
    "        self.final_layer = nn.Linear(embedding_size, vocab_size)\n",
    "\n",
    "        self.apply(self._init_weights)\n",
    "\n",
    "    def _init_weights(self, module):\n",
    "        if isinstance(module, nn.Linear):\n",
    "            torch.nn.init.normal_(module.weight, mean=0.0, std=0.02)\n",
    "            if module.bias is not None:\n",
    "                torch.nn.init.zeros_(module.bias)\n",
    "        elif isinstance(module, nn.Embedding):\n",
    "            torch.nn.init.normal_(module.weight, mean=0.0, std=0.02)\n",
    "\n",
    "    def forward(self, X_batch):\n",
    "        # X_batch - a batch of blocks (aka sequences), each containing chars\n",
    "\n",
    "        # from a simple encoding like [0] (for `A`) to an embedding vector where each token is represented by it's own vector of size \"embedding_size\" like [0.0265, 0.0334]\n",
    "        X_token_embeddings = self.token_embedding_table(X_batch) \n",
    "        \n",
    "        # block_size - Block Size/Time Steps - how many chars within a block (aka sequence)\n",
    "        X_position_embeddings = self.position_embedding_table(torch.arange(block_size, device = device))\n",
    "        \n",
    "        X_embeddings = X_token_embeddings + X_position_embeddings\n",
    "        \n",
    "        labels = self.blocks(X_embeddings) # (B,T,C)\n",
    "        labels = self.normalisation_layer(labels) # (B,T,C)\n",
    "        labels = self.final_layer(labels) # (Batch Size, Block Size, Vocab Size)\n",
    "\n",
    "        return labels\n",
    "\n",
    "    def generate(self, context, max_new_tokens):\n",
    "        # context is encoded prompt as a tensor of floats with shape = (Batch Size, Block Size Dummy) \n",
    "        for new_token in range(max_new_tokens):\n",
    "            # get block from context\n",
    "            block = context[:, -block_size:]\n",
    "            # let the model calculate prediction logits\n",
    "            y_logits = self.forward(block)\n",
    "            # focus only on the last time step\n",
    "            y_logits = y_logits[:, -1, :] # becomes (B, C)\n",
    "            # apply softmax to get probabilities\n",
    "            y_prediction_probs = torch.softmax(y_logits, dim=-1) # (B, C)\n",
    "            # sample from the distribution\n",
    "            y_predicted = torch.multinomial(y_prediction_probs, num_samples=1) # (B, 1)\n",
    "            # append predicted label to the sequence\n",
    "            context = torch.cat((context, y_predicted), dim=1) # (B, T+1)\n",
    "        return context"
   ]
  },
  {
   "cell_type": "markdown",
   "id": "9b9b9bec",
   "metadata": {},
   "source": [
    "# Training process\n",
    "## Init the model\n",
    "This is where the preparation ends. We are ready to **init** our model. \n",
    "\n",
    "We are using the **AdamW optimizier** and the common **cross entropy** loss function. \n",
    "\n",
    "If you want to start over, do it here:"
   ]
  },
  {
   "cell_type": "code",
   "execution_count": 36,
   "id": "91a3457e",
   "metadata": {},
   "outputs": [],
   "source": [
    "model = GPTLanguageModel(vocab_size)\n",
    "\n",
    "model.to(device)\n",
    "\n",
    "optimizer = torch.optim.AdamW(model.parameters(), lr=learning_rate)\n",
    "\n",
    "loss_fn = nn.CrossEntropyLoss()\n",
    "\n",
    "losses = {\n",
    "    'epoch': [],\n",
    "    'loss_train': [],\n",
    "    'loss_test': [],\n",
    "    'duration': 0 # seconds\n",
    "}"
   ]
  },
  {
   "cell_type": "markdown",
   "id": "4f45d01e",
   "metadata": {},
   "source": [
    "## Training loop\n",
    "Now we are ready to start the trainign and test loop. I am referring to the suggested approach by Daniel Bourke (checkout his \"*Optimization loop song*: https://www.youtube.com/watch?v=Nutpusq_AFw).\n",
    "\n",
    "This is the rough architecture behind the loop:\n",
    "\n",
    "- get a fresh and random batch of data\n",
    "- pass training data (`features_train`) to the model\n",
    "- calculate the loss by comparing the predicted results `labels_logits`to the expected results `labels_traing`\n",
    "- zero grad the optimizer\n",
    "- do back propagation of the loss\n",
    "- update parameters via optimizer function\n",
    "- start testing in torch's inference mode\n",
    "- calclate the test los by comparing the predicted test results `labels_logits` to the expected test results `labels_test`\n",
    "\n",
    "We will record train and test losses to plot them later."
   ]
  },
  {
   "cell_type": "code",
   "execution_count": 37,
   "id": "7b3838bc",
   "metadata": {},
   "outputs": [
    {
     "name": "stdout",
     "output_type": "stream",
     "text": [
      "Device: mps\n",
      "Batch Size: 8\n",
      "Block Size: 8\n",
      "Epochs: 1000\n",
      "Learning Rate: 0.0001\n",
      "Embeddings: 128\\Blocks: 4\n",
      "Heads: 4\n",
      "Dropout Rate: 0.2\n",
      "Hidden Units Factor: 4\n",
      "Train/Test Split: 0.8\n",
      "--\n",
      "\n",
      "Parameter containing:\n",
      "tensor([[ 0.0152,  0.0101,  0.0005,  ...,  0.0024, -0.0027, -0.0063],\n",
      "        [-0.0203,  0.0003, -0.0061,  ..., -0.0117, -0.0171,  0.0126],\n",
      "        [ 0.0157,  0.0207,  0.0206,  ...,  0.0077,  0.0059, -0.0419],\n",
      "        ...,\n",
      "        [ 0.0335,  0.0315, -0.0021,  ...,  0.0176,  0.0284,  0.0229],\n",
      "        [ 0.0066, -0.0229,  0.0170,  ...,  0.0095,  0.0187, -0.0057],\n",
      "        [-0.0014,  0.0187, -0.0018,  ...,  0.0013,  0.0130,  0.0494]],\n",
      "       device='mps:0', requires_grad=True)\n",
      "Parameter containing:\n",
      "tensor([[ 0.0152,  0.0101,  0.0005,  ...,  0.0024, -0.0027, -0.0063],\n",
      "        [-0.0203,  0.0003, -0.0061,  ..., -0.0117, -0.0171,  0.0126],\n",
      "        [ 0.0157,  0.0207,  0.0206,  ...,  0.0077,  0.0059, -0.0419],\n",
      "        ...,\n",
      "        [ 0.0335,  0.0315, -0.0021,  ...,  0.0176,  0.0284,  0.0229],\n",
      "        [ 0.0066, -0.0229,  0.0170,  ...,  0.0095,  0.0187, -0.0057],\n",
      "        [-0.0014,  0.0187, -0.0018,  ...,  0.0013,  0.0130,  0.0494]],\n",
      "       device='mps:0', requires_grad=True)\n"
     ]
    },
    {
     "ename": "NameError",
     "evalue": "name 'sys' is not defined",
     "output_type": "error",
     "traceback": [
      "\u001b[0;31m---------------------------------------------------------------------------\u001b[0m",
      "\u001b[0;31mNameError\u001b[0m                                 Traceback (most recent call last)",
      "Cell \u001b[0;32mIn[37], line 18\u001b[0m\n\u001b[1;32m     16\u001b[0m X_train, y_train \u001b[38;5;241m=\u001b[39m get_batch(\u001b[38;5;124m'\u001b[39m\u001b[38;5;124mtrain\u001b[39m\u001b[38;5;124m'\u001b[39m)\n\u001b[1;32m     17\u001b[0m \u001b[38;5;66;03m# PREDICTIONS\u001b[39;00m\n\u001b[0;32m---> 18\u001b[0m labels_logits \u001b[38;5;241m=\u001b[39m \u001b[43mmodel\u001b[49m\u001b[43m(\u001b[49m\u001b[43mX_train\u001b[49m\u001b[43m)\u001b[49m\n\u001b[1;32m     20\u001b[0m \u001b[38;5;66;03m# LOSS\u001b[39;00m\n\u001b[1;32m     21\u001b[0m curr_batches, curr_blocks, curr_classes \u001b[38;5;241m=\u001b[39m labels_logits\u001b[38;5;241m.\u001b[39mshape\n",
      "File \u001b[0;32m~/development.private/python/modelling/.venv/lib/python3.9/site-packages/torch/nn/modules/module.py:1518\u001b[0m, in \u001b[0;36mModule._wrapped_call_impl\u001b[0;34m(self, *args, **kwargs)\u001b[0m\n\u001b[1;32m   1516\u001b[0m     \u001b[38;5;28;01mreturn\u001b[39;00m \u001b[38;5;28mself\u001b[39m\u001b[38;5;241m.\u001b[39m_compiled_call_impl(\u001b[38;5;241m*\u001b[39margs, \u001b[38;5;241m*\u001b[39m\u001b[38;5;241m*\u001b[39mkwargs)  \u001b[38;5;66;03m# type: ignore[misc]\u001b[39;00m\n\u001b[1;32m   1517\u001b[0m \u001b[38;5;28;01melse\u001b[39;00m:\n\u001b[0;32m-> 1518\u001b[0m     \u001b[38;5;28;01mreturn\u001b[39;00m \u001b[38;5;28;43mself\u001b[39;49m\u001b[38;5;241;43m.\u001b[39;49m\u001b[43m_call_impl\u001b[49m\u001b[43m(\u001b[49m\u001b[38;5;241;43m*\u001b[39;49m\u001b[43margs\u001b[49m\u001b[43m,\u001b[49m\u001b[43m \u001b[49m\u001b[38;5;241;43m*\u001b[39;49m\u001b[38;5;241;43m*\u001b[39;49m\u001b[43mkwargs\u001b[49m\u001b[43m)\u001b[49m\n",
      "File \u001b[0;32m~/development.private/python/modelling/.venv/lib/python3.9/site-packages/torch/nn/modules/module.py:1527\u001b[0m, in \u001b[0;36mModule._call_impl\u001b[0;34m(self, *args, **kwargs)\u001b[0m\n\u001b[1;32m   1522\u001b[0m \u001b[38;5;66;03m# If we don't have any hooks, we want to skip the rest of the logic in\u001b[39;00m\n\u001b[1;32m   1523\u001b[0m \u001b[38;5;66;03m# this function, and just call forward.\u001b[39;00m\n\u001b[1;32m   1524\u001b[0m \u001b[38;5;28;01mif\u001b[39;00m \u001b[38;5;129;01mnot\u001b[39;00m (\u001b[38;5;28mself\u001b[39m\u001b[38;5;241m.\u001b[39m_backward_hooks \u001b[38;5;129;01mor\u001b[39;00m \u001b[38;5;28mself\u001b[39m\u001b[38;5;241m.\u001b[39m_backward_pre_hooks \u001b[38;5;129;01mor\u001b[39;00m \u001b[38;5;28mself\u001b[39m\u001b[38;5;241m.\u001b[39m_forward_hooks \u001b[38;5;129;01mor\u001b[39;00m \u001b[38;5;28mself\u001b[39m\u001b[38;5;241m.\u001b[39m_forward_pre_hooks\n\u001b[1;32m   1525\u001b[0m         \u001b[38;5;129;01mor\u001b[39;00m _global_backward_pre_hooks \u001b[38;5;129;01mor\u001b[39;00m _global_backward_hooks\n\u001b[1;32m   1526\u001b[0m         \u001b[38;5;129;01mor\u001b[39;00m _global_forward_hooks \u001b[38;5;129;01mor\u001b[39;00m _global_forward_pre_hooks):\n\u001b[0;32m-> 1527\u001b[0m     \u001b[38;5;28;01mreturn\u001b[39;00m \u001b[43mforward_call\u001b[49m\u001b[43m(\u001b[49m\u001b[38;5;241;43m*\u001b[39;49m\u001b[43margs\u001b[49m\u001b[43m,\u001b[49m\u001b[43m \u001b[49m\u001b[38;5;241;43m*\u001b[39;49m\u001b[38;5;241;43m*\u001b[39;49m\u001b[43mkwargs\u001b[49m\u001b[43m)\u001b[49m\n\u001b[1;32m   1529\u001b[0m \u001b[38;5;28;01mtry\u001b[39;00m:\n\u001b[1;32m   1530\u001b[0m     result \u001b[38;5;241m=\u001b[39m \u001b[38;5;28;01mNone\u001b[39;00m\n",
      "Cell \u001b[0;32mIn[35], line 130\u001b[0m, in \u001b[0;36mGPTLanguageModel.forward\u001b[0;34m(self, X_encoded)\u001b[0m\n\u001b[1;32m    127\u001b[0m X_position_embeddings \u001b[38;5;241m=\u001b[39m \u001b[38;5;28mself\u001b[39m\u001b[38;5;241m.\u001b[39mposition_embedding_table(torch\u001b[38;5;241m.\u001b[39marange(T, device \u001b[38;5;241m=\u001b[39m device)) \u001b[38;5;66;03m# (T,C) ä same, but now for the position, which leads to different vectors\u001b[39;00m\n\u001b[1;32m    128\u001b[0m X_embeddings \u001b[38;5;241m=\u001b[39m X_token_embeddings \u001b[38;5;241m+\u001b[39m X_position_embeddings \u001b[38;5;66;03m# (B,T,C)\u001b[39;00m\n\u001b[0;32m--> 130\u001b[0m labels \u001b[38;5;241m=\u001b[39m \u001b[38;5;28;43mself\u001b[39;49m\u001b[38;5;241;43m.\u001b[39;49m\u001b[43mblocks\u001b[49m\u001b[43m(\u001b[49m\u001b[43mX_embeddings\u001b[49m\u001b[43m)\u001b[49m \u001b[38;5;66;03m# (B,T,C)\u001b[39;00m\n\u001b[1;32m    131\u001b[0m labels \u001b[38;5;241m=\u001b[39m \u001b[38;5;28mself\u001b[39m\u001b[38;5;241m.\u001b[39mnormalisation_layer(labels) \u001b[38;5;66;03m# (B,T,C)\u001b[39;00m\n\u001b[1;32m    132\u001b[0m labels \u001b[38;5;241m=\u001b[39m \u001b[38;5;28mself\u001b[39m\u001b[38;5;241m.\u001b[39mfinal_layer(labels) \u001b[38;5;66;03m# (Batch Size, Block Size, Vocab Size)\u001b[39;00m\n",
      "File \u001b[0;32m~/development.private/python/modelling/.venv/lib/python3.9/site-packages/torch/nn/modules/module.py:1518\u001b[0m, in \u001b[0;36mModule._wrapped_call_impl\u001b[0;34m(self, *args, **kwargs)\u001b[0m\n\u001b[1;32m   1516\u001b[0m     \u001b[38;5;28;01mreturn\u001b[39;00m \u001b[38;5;28mself\u001b[39m\u001b[38;5;241m.\u001b[39m_compiled_call_impl(\u001b[38;5;241m*\u001b[39margs, \u001b[38;5;241m*\u001b[39m\u001b[38;5;241m*\u001b[39mkwargs)  \u001b[38;5;66;03m# type: ignore[misc]\u001b[39;00m\n\u001b[1;32m   1517\u001b[0m \u001b[38;5;28;01melse\u001b[39;00m:\n\u001b[0;32m-> 1518\u001b[0m     \u001b[38;5;28;01mreturn\u001b[39;00m \u001b[38;5;28;43mself\u001b[39;49m\u001b[38;5;241;43m.\u001b[39;49m\u001b[43m_call_impl\u001b[49m\u001b[43m(\u001b[49m\u001b[38;5;241;43m*\u001b[39;49m\u001b[43margs\u001b[49m\u001b[43m,\u001b[49m\u001b[43m \u001b[49m\u001b[38;5;241;43m*\u001b[39;49m\u001b[38;5;241;43m*\u001b[39;49m\u001b[43mkwargs\u001b[49m\u001b[43m)\u001b[49m\n",
      "File \u001b[0;32m~/development.private/python/modelling/.venv/lib/python3.9/site-packages/torch/nn/modules/module.py:1527\u001b[0m, in \u001b[0;36mModule._call_impl\u001b[0;34m(self, *args, **kwargs)\u001b[0m\n\u001b[1;32m   1522\u001b[0m \u001b[38;5;66;03m# If we don't have any hooks, we want to skip the rest of the logic in\u001b[39;00m\n\u001b[1;32m   1523\u001b[0m \u001b[38;5;66;03m# this function, and just call forward.\u001b[39;00m\n\u001b[1;32m   1524\u001b[0m \u001b[38;5;28;01mif\u001b[39;00m \u001b[38;5;129;01mnot\u001b[39;00m (\u001b[38;5;28mself\u001b[39m\u001b[38;5;241m.\u001b[39m_backward_hooks \u001b[38;5;129;01mor\u001b[39;00m \u001b[38;5;28mself\u001b[39m\u001b[38;5;241m.\u001b[39m_backward_pre_hooks \u001b[38;5;129;01mor\u001b[39;00m \u001b[38;5;28mself\u001b[39m\u001b[38;5;241m.\u001b[39m_forward_hooks \u001b[38;5;129;01mor\u001b[39;00m \u001b[38;5;28mself\u001b[39m\u001b[38;5;241m.\u001b[39m_forward_pre_hooks\n\u001b[1;32m   1525\u001b[0m         \u001b[38;5;129;01mor\u001b[39;00m _global_backward_pre_hooks \u001b[38;5;129;01mor\u001b[39;00m _global_backward_hooks\n\u001b[1;32m   1526\u001b[0m         \u001b[38;5;129;01mor\u001b[39;00m _global_forward_hooks \u001b[38;5;129;01mor\u001b[39;00m _global_forward_pre_hooks):\n\u001b[0;32m-> 1527\u001b[0m     \u001b[38;5;28;01mreturn\u001b[39;00m \u001b[43mforward_call\u001b[49m\u001b[43m(\u001b[49m\u001b[38;5;241;43m*\u001b[39;49m\u001b[43margs\u001b[49m\u001b[43m,\u001b[49m\u001b[43m \u001b[49m\u001b[38;5;241;43m*\u001b[39;49m\u001b[38;5;241;43m*\u001b[39;49m\u001b[43mkwargs\u001b[49m\u001b[43m)\u001b[49m\n\u001b[1;32m   1529\u001b[0m \u001b[38;5;28;01mtry\u001b[39;00m:\n\u001b[1;32m   1530\u001b[0m     result \u001b[38;5;241m=\u001b[39m \u001b[38;5;28;01mNone\u001b[39;00m\n",
      "File \u001b[0;32m~/development.private/python/modelling/.venv/lib/python3.9/site-packages/torch/nn/modules/container.py:215\u001b[0m, in \u001b[0;36mSequential.forward\u001b[0;34m(self, input)\u001b[0m\n\u001b[1;32m    213\u001b[0m \u001b[38;5;28;01mdef\u001b[39;00m \u001b[38;5;21mforward\u001b[39m(\u001b[38;5;28mself\u001b[39m, \u001b[38;5;28minput\u001b[39m):\n\u001b[1;32m    214\u001b[0m     \u001b[38;5;28;01mfor\u001b[39;00m module \u001b[38;5;129;01min\u001b[39;00m \u001b[38;5;28mself\u001b[39m:\n\u001b[0;32m--> 215\u001b[0m         \u001b[38;5;28minput\u001b[39m \u001b[38;5;241m=\u001b[39m \u001b[43mmodule\u001b[49m\u001b[43m(\u001b[49m\u001b[38;5;28;43minput\u001b[39;49m\u001b[43m)\u001b[49m\n\u001b[1;32m    216\u001b[0m     \u001b[38;5;28;01mreturn\u001b[39;00m \u001b[38;5;28minput\u001b[39m\n",
      "File \u001b[0;32m~/development.private/python/modelling/.venv/lib/python3.9/site-packages/torch/nn/modules/module.py:1518\u001b[0m, in \u001b[0;36mModule._wrapped_call_impl\u001b[0;34m(self, *args, **kwargs)\u001b[0m\n\u001b[1;32m   1516\u001b[0m     \u001b[38;5;28;01mreturn\u001b[39;00m \u001b[38;5;28mself\u001b[39m\u001b[38;5;241m.\u001b[39m_compiled_call_impl(\u001b[38;5;241m*\u001b[39margs, \u001b[38;5;241m*\u001b[39m\u001b[38;5;241m*\u001b[39mkwargs)  \u001b[38;5;66;03m# type: ignore[misc]\u001b[39;00m\n\u001b[1;32m   1517\u001b[0m \u001b[38;5;28;01melse\u001b[39;00m:\n\u001b[0;32m-> 1518\u001b[0m     \u001b[38;5;28;01mreturn\u001b[39;00m \u001b[38;5;28;43mself\u001b[39;49m\u001b[38;5;241;43m.\u001b[39;49m\u001b[43m_call_impl\u001b[49m\u001b[43m(\u001b[49m\u001b[38;5;241;43m*\u001b[39;49m\u001b[43margs\u001b[49m\u001b[43m,\u001b[49m\u001b[43m \u001b[49m\u001b[38;5;241;43m*\u001b[39;49m\u001b[38;5;241;43m*\u001b[39;49m\u001b[43mkwargs\u001b[49m\u001b[43m)\u001b[49m\n",
      "File \u001b[0;32m~/development.private/python/modelling/.venv/lib/python3.9/site-packages/torch/nn/modules/module.py:1527\u001b[0m, in \u001b[0;36mModule._call_impl\u001b[0;34m(self, *args, **kwargs)\u001b[0m\n\u001b[1;32m   1522\u001b[0m \u001b[38;5;66;03m# If we don't have any hooks, we want to skip the rest of the logic in\u001b[39;00m\n\u001b[1;32m   1523\u001b[0m \u001b[38;5;66;03m# this function, and just call forward.\u001b[39;00m\n\u001b[1;32m   1524\u001b[0m \u001b[38;5;28;01mif\u001b[39;00m \u001b[38;5;129;01mnot\u001b[39;00m (\u001b[38;5;28mself\u001b[39m\u001b[38;5;241m.\u001b[39m_backward_hooks \u001b[38;5;129;01mor\u001b[39;00m \u001b[38;5;28mself\u001b[39m\u001b[38;5;241m.\u001b[39m_backward_pre_hooks \u001b[38;5;129;01mor\u001b[39;00m \u001b[38;5;28mself\u001b[39m\u001b[38;5;241m.\u001b[39m_forward_hooks \u001b[38;5;129;01mor\u001b[39;00m \u001b[38;5;28mself\u001b[39m\u001b[38;5;241m.\u001b[39m_forward_pre_hooks\n\u001b[1;32m   1525\u001b[0m         \u001b[38;5;129;01mor\u001b[39;00m _global_backward_pre_hooks \u001b[38;5;129;01mor\u001b[39;00m _global_backward_hooks\n\u001b[1;32m   1526\u001b[0m         \u001b[38;5;129;01mor\u001b[39;00m _global_forward_hooks \u001b[38;5;129;01mor\u001b[39;00m _global_forward_pre_hooks):\n\u001b[0;32m-> 1527\u001b[0m     \u001b[38;5;28;01mreturn\u001b[39;00m \u001b[43mforward_call\u001b[49m\u001b[43m(\u001b[49m\u001b[38;5;241;43m*\u001b[39;49m\u001b[43margs\u001b[49m\u001b[43m,\u001b[49m\u001b[43m \u001b[49m\u001b[38;5;241;43m*\u001b[39;49m\u001b[38;5;241;43m*\u001b[39;49m\u001b[43mkwargs\u001b[49m\u001b[43m)\u001b[49m\n\u001b[1;32m   1529\u001b[0m \u001b[38;5;28;01mtry\u001b[39;00m:\n\u001b[1;32m   1530\u001b[0m     result \u001b[38;5;241m=\u001b[39m \u001b[38;5;28;01mNone\u001b[39;00m\n",
      "Cell \u001b[0;32mIn[35], line 87\u001b[0m, in \u001b[0;36mBlock.forward\u001b[0;34m(self, X_embeddings)\u001b[0m\n\u001b[1;32m     85\u001b[0m \u001b[38;5;28;01mdef\u001b[39;00m \u001b[38;5;21mforward\u001b[39m(\u001b[38;5;28mself\u001b[39m, X_embeddings):\n\u001b[0;32m---> 87\u001b[0m     y \u001b[38;5;241m=\u001b[39m \u001b[38;5;28;43mself\u001b[39;49m\u001b[38;5;241;43m.\u001b[39;49m\u001b[43mself_attention_layer\u001b[49m\u001b[43m(\u001b[49m\u001b[43mX_embeddings\u001b[49m\u001b[43m)\u001b[49m\n\u001b[1;32m     88\u001b[0m     X_embeddings \u001b[38;5;241m=\u001b[39m \u001b[38;5;28mself\u001b[39m\u001b[38;5;241m.\u001b[39mnormalisation_layer_1(X_embeddings \u001b[38;5;241m+\u001b[39m y)\n\u001b[1;32m     90\u001b[0m     y \u001b[38;5;241m=\u001b[39m \u001b[38;5;28mself\u001b[39m\u001b[38;5;241m.\u001b[39mfeed_forward_layer(X_embeddings)\n",
      "File \u001b[0;32m~/development.private/python/modelling/.venv/lib/python3.9/site-packages/torch/nn/modules/module.py:1518\u001b[0m, in \u001b[0;36mModule._wrapped_call_impl\u001b[0;34m(self, *args, **kwargs)\u001b[0m\n\u001b[1;32m   1516\u001b[0m     \u001b[38;5;28;01mreturn\u001b[39;00m \u001b[38;5;28mself\u001b[39m\u001b[38;5;241m.\u001b[39m_compiled_call_impl(\u001b[38;5;241m*\u001b[39margs, \u001b[38;5;241m*\u001b[39m\u001b[38;5;241m*\u001b[39mkwargs)  \u001b[38;5;66;03m# type: ignore[misc]\u001b[39;00m\n\u001b[1;32m   1517\u001b[0m \u001b[38;5;28;01melse\u001b[39;00m:\n\u001b[0;32m-> 1518\u001b[0m     \u001b[38;5;28;01mreturn\u001b[39;00m \u001b[38;5;28;43mself\u001b[39;49m\u001b[38;5;241;43m.\u001b[39;49m\u001b[43m_call_impl\u001b[49m\u001b[43m(\u001b[49m\u001b[38;5;241;43m*\u001b[39;49m\u001b[43margs\u001b[49m\u001b[43m,\u001b[49m\u001b[43m \u001b[49m\u001b[38;5;241;43m*\u001b[39;49m\u001b[38;5;241;43m*\u001b[39;49m\u001b[43mkwargs\u001b[49m\u001b[43m)\u001b[49m\n",
      "File \u001b[0;32m~/development.private/python/modelling/.venv/lib/python3.9/site-packages/torch/nn/modules/module.py:1527\u001b[0m, in \u001b[0;36mModule._call_impl\u001b[0;34m(self, *args, **kwargs)\u001b[0m\n\u001b[1;32m   1522\u001b[0m \u001b[38;5;66;03m# If we don't have any hooks, we want to skip the rest of the logic in\u001b[39;00m\n\u001b[1;32m   1523\u001b[0m \u001b[38;5;66;03m# this function, and just call forward.\u001b[39;00m\n\u001b[1;32m   1524\u001b[0m \u001b[38;5;28;01mif\u001b[39;00m \u001b[38;5;129;01mnot\u001b[39;00m (\u001b[38;5;28mself\u001b[39m\u001b[38;5;241m.\u001b[39m_backward_hooks \u001b[38;5;129;01mor\u001b[39;00m \u001b[38;5;28mself\u001b[39m\u001b[38;5;241m.\u001b[39m_backward_pre_hooks \u001b[38;5;129;01mor\u001b[39;00m \u001b[38;5;28mself\u001b[39m\u001b[38;5;241m.\u001b[39m_forward_hooks \u001b[38;5;129;01mor\u001b[39;00m \u001b[38;5;28mself\u001b[39m\u001b[38;5;241m.\u001b[39m_forward_pre_hooks\n\u001b[1;32m   1525\u001b[0m         \u001b[38;5;129;01mor\u001b[39;00m _global_backward_pre_hooks \u001b[38;5;129;01mor\u001b[39;00m _global_backward_hooks\n\u001b[1;32m   1526\u001b[0m         \u001b[38;5;129;01mor\u001b[39;00m _global_forward_hooks \u001b[38;5;129;01mor\u001b[39;00m _global_forward_pre_hooks):\n\u001b[0;32m-> 1527\u001b[0m     \u001b[38;5;28;01mreturn\u001b[39;00m \u001b[43mforward_call\u001b[49m\u001b[43m(\u001b[49m\u001b[38;5;241;43m*\u001b[39;49m\u001b[43margs\u001b[49m\u001b[43m,\u001b[49m\u001b[43m \u001b[49m\u001b[38;5;241;43m*\u001b[39;49m\u001b[38;5;241;43m*\u001b[39;49m\u001b[43mkwargs\u001b[49m\u001b[43m)\u001b[49m\n\u001b[1;32m   1529\u001b[0m \u001b[38;5;28;01mtry\u001b[39;00m:\n\u001b[1;32m   1530\u001b[0m     result \u001b[38;5;241m=\u001b[39m \u001b[38;5;28;01mNone\u001b[39;00m\n",
      "Cell \u001b[0;32mIn[35], line 54\u001b[0m, in \u001b[0;36mMultiHeadAttention.forward\u001b[0;34m(self, X_embeddings)\u001b[0m\n\u001b[1;32m     53\u001b[0m \u001b[38;5;28;01mdef\u001b[39;00m \u001b[38;5;21mforward\u001b[39m(\u001b[38;5;28mself\u001b[39m, X_embeddings):\n\u001b[0;32m---> 54\u001b[0m     y \u001b[38;5;241m=\u001b[39m torch\u001b[38;5;241m.\u001b[39mcat([head(X_embeddings) \u001b[38;5;28;01mfor\u001b[39;00m head \u001b[38;5;129;01min\u001b[39;00m \u001b[38;5;28mself\u001b[39m\u001b[38;5;241m.\u001b[39mheads], dim\u001b[38;5;241m=\u001b[39m\u001b[38;5;241m-\u001b[39m\u001b[38;5;241m1\u001b[39m) \u001b[38;5;66;03m# (B, T, F) -> (B, T, [h1, h1, h1, h1, h2, h2, h2, h2, h3, h3, h3, h3])\u001b[39;00m\n\u001b[1;32m     55\u001b[0m     y \u001b[38;5;241m=\u001b[39m \u001b[38;5;28mself\u001b[39m\u001b[38;5;241m.\u001b[39mdropout(\u001b[38;5;28mself\u001b[39m\u001b[38;5;241m.\u001b[39mprojections(y))\n\u001b[1;32m     56\u001b[0m     \u001b[38;5;28;01mreturn\u001b[39;00m y\n",
      "Cell \u001b[0;32mIn[35], line 54\u001b[0m, in \u001b[0;36m<listcomp>\u001b[0;34m(.0)\u001b[0m\n\u001b[1;32m     53\u001b[0m \u001b[38;5;28;01mdef\u001b[39;00m \u001b[38;5;21mforward\u001b[39m(\u001b[38;5;28mself\u001b[39m, X_embeddings):\n\u001b[0;32m---> 54\u001b[0m     y \u001b[38;5;241m=\u001b[39m torch\u001b[38;5;241m.\u001b[39mcat([\u001b[43mhead\u001b[49m\u001b[43m(\u001b[49m\u001b[43mX_embeddings\u001b[49m\u001b[43m)\u001b[49m \u001b[38;5;28;01mfor\u001b[39;00m head \u001b[38;5;129;01min\u001b[39;00m \u001b[38;5;28mself\u001b[39m\u001b[38;5;241m.\u001b[39mheads], dim\u001b[38;5;241m=\u001b[39m\u001b[38;5;241m-\u001b[39m\u001b[38;5;241m1\u001b[39m) \u001b[38;5;66;03m# (B, T, F) -> (B, T, [h1, h1, h1, h1, h2, h2, h2, h2, h3, h3, h3, h3])\u001b[39;00m\n\u001b[1;32m     55\u001b[0m     y \u001b[38;5;241m=\u001b[39m \u001b[38;5;28mself\u001b[39m\u001b[38;5;241m.\u001b[39mdropout(\u001b[38;5;28mself\u001b[39m\u001b[38;5;241m.\u001b[39mprojections(y))\n\u001b[1;32m     56\u001b[0m     \u001b[38;5;28;01mreturn\u001b[39;00m y\n",
      "File \u001b[0;32m~/development.private/python/modelling/.venv/lib/python3.9/site-packages/torch/nn/modules/module.py:1518\u001b[0m, in \u001b[0;36mModule._wrapped_call_impl\u001b[0;34m(self, *args, **kwargs)\u001b[0m\n\u001b[1;32m   1516\u001b[0m     \u001b[38;5;28;01mreturn\u001b[39;00m \u001b[38;5;28mself\u001b[39m\u001b[38;5;241m.\u001b[39m_compiled_call_impl(\u001b[38;5;241m*\u001b[39margs, \u001b[38;5;241m*\u001b[39m\u001b[38;5;241m*\u001b[39mkwargs)  \u001b[38;5;66;03m# type: ignore[misc]\u001b[39;00m\n\u001b[1;32m   1517\u001b[0m \u001b[38;5;28;01melse\u001b[39;00m:\n\u001b[0;32m-> 1518\u001b[0m     \u001b[38;5;28;01mreturn\u001b[39;00m \u001b[38;5;28;43mself\u001b[39;49m\u001b[38;5;241;43m.\u001b[39;49m\u001b[43m_call_impl\u001b[49m\u001b[43m(\u001b[49m\u001b[38;5;241;43m*\u001b[39;49m\u001b[43margs\u001b[49m\u001b[43m,\u001b[49m\u001b[43m \u001b[49m\u001b[38;5;241;43m*\u001b[39;49m\u001b[38;5;241;43m*\u001b[39;49m\u001b[43mkwargs\u001b[49m\u001b[43m)\u001b[49m\n",
      "File \u001b[0;32m~/development.private/python/modelling/.venv/lib/python3.9/site-packages/torch/nn/modules/module.py:1527\u001b[0m, in \u001b[0;36mModule._call_impl\u001b[0;34m(self, *args, **kwargs)\u001b[0m\n\u001b[1;32m   1522\u001b[0m \u001b[38;5;66;03m# If we don't have any hooks, we want to skip the rest of the logic in\u001b[39;00m\n\u001b[1;32m   1523\u001b[0m \u001b[38;5;66;03m# this function, and just call forward.\u001b[39;00m\n\u001b[1;32m   1524\u001b[0m \u001b[38;5;28;01mif\u001b[39;00m \u001b[38;5;129;01mnot\u001b[39;00m (\u001b[38;5;28mself\u001b[39m\u001b[38;5;241m.\u001b[39m_backward_hooks \u001b[38;5;129;01mor\u001b[39;00m \u001b[38;5;28mself\u001b[39m\u001b[38;5;241m.\u001b[39m_backward_pre_hooks \u001b[38;5;129;01mor\u001b[39;00m \u001b[38;5;28mself\u001b[39m\u001b[38;5;241m.\u001b[39m_forward_hooks \u001b[38;5;129;01mor\u001b[39;00m \u001b[38;5;28mself\u001b[39m\u001b[38;5;241m.\u001b[39m_forward_pre_hooks\n\u001b[1;32m   1525\u001b[0m         \u001b[38;5;129;01mor\u001b[39;00m _global_backward_pre_hooks \u001b[38;5;129;01mor\u001b[39;00m _global_backward_hooks\n\u001b[1;32m   1526\u001b[0m         \u001b[38;5;129;01mor\u001b[39;00m _global_forward_hooks \u001b[38;5;129;01mor\u001b[39;00m _global_forward_pre_hooks):\n\u001b[0;32m-> 1527\u001b[0m     \u001b[38;5;28;01mreturn\u001b[39;00m \u001b[43mforward_call\u001b[49m\u001b[43m(\u001b[49m\u001b[38;5;241;43m*\u001b[39;49m\u001b[43margs\u001b[49m\u001b[43m,\u001b[49m\u001b[43m \u001b[49m\u001b[38;5;241;43m*\u001b[39;49m\u001b[38;5;241;43m*\u001b[39;49m\u001b[43mkwargs\u001b[49m\u001b[43m)\u001b[49m\n\u001b[1;32m   1529\u001b[0m \u001b[38;5;28;01mtry\u001b[39;00m:\n\u001b[1;32m   1530\u001b[0m     result \u001b[38;5;241m=\u001b[39m \u001b[38;5;28;01mNone\u001b[39;00m\n",
      "Cell \u001b[0;32mIn[35], line 26\u001b[0m, in \u001b[0;36mHead.forward\u001b[0;34m(self, X_embeddings)\u001b[0m\n\u001b[1;32m     24\u001b[0m keys \u001b[38;5;241m=\u001b[39m \u001b[38;5;28mself\u001b[39m\u001b[38;5;241m.\u001b[39mkeys(X_embeddings)   \u001b[38;5;66;03m# (B,T,head_size)\u001b[39;00m\n\u001b[1;32m     25\u001b[0m \u001b[38;5;28mprint\u001b[39m(\u001b[38;5;28mself\u001b[39m\u001b[38;5;241m.\u001b[39mkeys\u001b[38;5;241m.\u001b[39mweight)\n\u001b[0;32m---> 26\u001b[0m \u001b[43msys\u001b[49m\u001b[38;5;241m.\u001b[39mexit()\n\u001b[1;32m     28\u001b[0m queries \u001b[38;5;241m=\u001b[39m \u001b[38;5;28mself\u001b[39m\u001b[38;5;241m.\u001b[39mqueries(X_embeddings) \u001b[38;5;66;03m# (B,T,head_size)\u001b[39;00m\n\u001b[1;32m     30\u001b[0m \u001b[38;5;66;03m# compute attention scores (\"affinities\")\u001b[39;00m\n\u001b[1;32m     31\u001b[0m \n\u001b[1;32m     32\u001b[0m \u001b[38;5;66;03m# Matrix multiplication and scaling the result using square root of the head_size\u001b[39;00m\n",
      "\u001b[0;31mNameError\u001b[0m: name 'sys' is not defined"
     ]
    }
   ],
   "source": [
    "print(f\"Device: {device}\\nBatch Size: {batch_size}\\nBlock Size: {block_size}\\nEpochs: {epochs}\\nLearning Rate: {learning_rate}\\n\"\n",
    "      f\"Embeddings: {embedding_size}\\Blocks: {num_blocks}\\nHeads: {num_heads}\\n\"\n",
    "      f\"Dropout Rate: {dropout_rate}\\nHidden Units Factor: {hidden_units_factor}\\nTrain/Test Split: {train_split}\\n--\\n\")\n",
    "\n",
    "start = time.time()\n",
    "\n",
    "start_epoch = 0 if len(losses['epoch']) == 0 else losses['epoch'][-1]\n",
    "\n",
    "for epoch in range(start_epoch, start_epoch + epochs):\n",
    "\n",
    "    # TRAIN\n",
    "    model.train()\n",
    "\n",
    "    # GET BATCH OF TRAINING DATA\n",
    "    # ALREADY CONTAINS CHAR-ENCODED TEXT LIKE `3, 6, 7, 7, 8` for `HELLO`\n",
    "    X_train, y_train = get_batch('train')\n",
    "    # PREDICTIONS\n",
    "    labels_logits = model(X_train)\n",
    "\n",
    "    # LOSS\n",
    "    curr_batches, curr_blocks, curr_classes = labels_logits.shape\n",
    "    labels_logits = labels_logits.view(curr_batches * curr_blocks, curr_classes) # merge Batches to one single batch, also keep number of classes\n",
    "    y_train = y_train.view(curr_batches * curr_blocks) # merge Batches to one single batch, no classes required for cross_entropy\n",
    "    loss_train = loss_fn(labels_logits, y_train)\n",
    "\n",
    "    # SET OPTIMIZER TO ZERO\n",
    "    optimizer.zero_grad(set_to_none=True)\n",
    "    \n",
    "    # BACK PROPAGATION \n",
    "    loss_train.backward()\n",
    "\n",
    "    # UPDATE PARAMETERS\n",
    "    optimizer.step()\n",
    "\n",
    "    # LOG\n",
    "    if epochs < 10 or epoch % int(epochs / 10) == 0:\n",
    "\n",
    "      # TEST  \n",
    "      model.eval()\n",
    "      with torch.inference_mode():\n",
    "        features_test, labels_test = get_batch('test')\n",
    "        labels_logits = model(features_test)\n",
    "        curr_batches, curr_blocks, curr_classes = labels_logits.shape\n",
    "        labels_logits = labels_logits.view(curr_batches * curr_blocks, curr_classes) # merge Batches to one single batch, also keep number of classes\n",
    "        labels_test = labels_test.view(curr_batches * curr_blocks) # merge Batches to one single batch, no classes required for cross_entropy\n",
    "        loss_test = loss_fn(labels_logits, labels_test)\n",
    "\n",
    "      print(f\"Epoch {epoch} | Train loss {loss_train:.2f} | Test Loss {loss_test:.2f}\")\n",
    "      \n",
    "      losses['epoch'].append(epoch)\n",
    "      losses['loss_train'].append(loss_train.cpu().item())\n",
    "      losses['loss_test'].append(loss_test.cpu().item())\n",
    "      losses['duration'] += (time.time() - start)\n"
   ]
  },
  {
   "cell_type": "markdown",
   "id": "18076e3f",
   "metadata": {},
   "source": [
    "## Plot results\n",
    "We will plot train and test losses for each epoch to see how the loss goes down - hopefully."
   ]
  },
  {
   "cell_type": "code",
   "execution_count": 20,
   "id": "ae508674",
   "metadata": {},
   "outputs": [
    {
     "data": {
      "image/png": "[encoded data removed]",
      "text/plain": [
       "<Figure size 500x500 with 2 Axes>"
      ]
     },
     "metadata": {},
     "output_type": "display_data"
    }
   ],
   "source": [
    "fig, ax1 = plt.subplots(figsize=(5, 5))\n",
    "fontsize = 10\n",
    "line_width = 0.5\n",
    "y_axis_limit = int(max(losses['loss_train'] + losses['loss_test']) * 1.25)\n",
    "\n",
    "ax1.plot(losses['epoch'], losses['loss_train'], color='red', label='Train Loss', linewidth=line_width + 1)\n",
    "ax1.set_xlabel('Epoch', fontsize=fontsize)\n",
    "ax1.set_ylabel('Train Loss', color='red', fontsize=fontsize)\n",
    "ax1.tick_params('y', colors='red', labelsize=fontsize)\n",
    "ax1.set_ylim(0, y_axis_limit) \n",
    "\n",
    "ax2 = ax1.twinx()\n",
    "ax2.plot(losses['epoch'], losses['loss_test'], color='green', label='Test Loss', linewidth=line_width)\n",
    "ax2.set_ylabel('Test Loss', color='green', fontsize=fontsize)\n",
    "ax2.tick_params('y', colors='green', labelsize=fontsize)\n",
    "ax2.set_ylim(0, y_axis_limit) \n",
    "\n",
    "plt.title(f'Train/Test Loss after {(losses[\"duration\"]):.2f} seconds')\n",
    "fig.tight_layout()\n",
    "plt.show()"
   ]
  },
  {
   "cell_type": "markdown",
   "id": "3568a1fe",
   "metadata": {},
   "source": [
    "# Aftermath\n",
    "## Loading and saving the model\n",
    "\n",
    "We can utilize two functions to persist the model's result\n",
    "- either putting everything to a pickel file or\n",
    "- using PyTorch's state dic export feature"
   ]
  },
  {
   "cell_type": "markdown",
   "id": "e3eb122f",
   "metadata": {},
   "source": [
    "torch.save(obj = model.state_dict(), f = model_export)"
   ]
  },
  {
   "cell_type": "code",
   "execution_count": 32,
   "id": "779577f8",
   "metadata": {},
   "outputs": [
    {
     "ename": "TypeError",
     "evalue": "__init__() missing 1 required positional argument: 'vocab_size'",
     "output_type": "error",
     "traceback": [
      "\u001b[0;31m---------------------------------------------------------------------------\u001b[0m",
      "\u001b[0;31mTypeError\u001b[0m                                 Traceback (most recent call last)",
      "Cell \u001b[0;32mIn[32], line 1\u001b[0m\n\u001b[0;32m----> 1\u001b[0m model \u001b[38;5;241m=\u001b[39m \u001b[43mGPTLanguageModel\u001b[49m\u001b[43m(\u001b[49m\u001b[43m)\u001b[49m\n\u001b[1;32m      2\u001b[0m model\u001b[38;5;241m.\u001b[39mload_state_dict(torch\u001b[38;5;241m.\u001b[39mload(model_export))\n\u001b[1;32m      3\u001b[0m model\u001b[38;5;241m.\u001b[39mto(device)\n",
      "\u001b[0;31mTypeError\u001b[0m: __init__() missing 1 required positional argument: 'vocab_size'"
     ]
    }
   ],
   "source": [
    "model = GPTLanguageModel()\n",
    "model.load_state_dict(torch.load(model_export))\n",
    "model.to(device)"
   ]
  },
  {
   "cell_type": "code",
   "execution_count": null,
   "id": "1cc34d1b",
   "metadata": {},
   "outputs": [],
   "source": [
    "with open('model-01.pkl', 'wb') as f:\n",
    "    pickle.dump(model, f)\n",
    "print('model saved')"
   ]
  },
  {
   "cell_type": "code",
   "execution_count": null,
   "id": "343c2132",
   "metadata": {},
   "outputs": [],
   "source": [
    "with open('model-01.pkl', 'rb') as f:\n",
    "     model = pickle.load(f)"
   ]
  },
  {
   "cell_type": "markdown",
   "id": "b4001618",
   "metadata": {},
   "source": [
    "# Use the model\n",
    "Finally, apparently, we want to use the model. This simply generates new tokens for a given prompt."
   ]
  },
  {
   "cell_type": "code",
   "execution_count": 21,
   "id": "9fb9870f",
   "metadata": {},
   "outputs": [
    {
     "name": "stdout",
     "output_type": "stream",
     "text": [
      "Hello World! Hllo World! Hello \n",
      "Hello World! Hello Wold! \n",
      "Hello\n",
      "Hello World! \n",
      "Hello World! \n",
      "Hel\n",
      "Hello World! Hello World! \n",
      "Hell\n",
      "Hello World! Hel\n",
      "Hello World! H\n",
      "Hellorld! eld! Hello World! \n",
      "He\n",
      "Hello World! \n",
      "Hello World! \n",
      "Hel\n",
      "Hello World! \n",
      "Hello World! ! He\n",
      "Hello World! Hello World! \n",
      "Hell\n",
      "Hello Wrld! Hello World! Hello \n"
     ]
    }
   ],
   "source": [
    "prompt = 'H'\n",
    "context = torch.tensor(encode(char_table, prompt), dtype=torch.long, device=device)\n",
    "\n",
    "with torch.inference_mode():\n",
    "  for iter in range(10):    \n",
    "    generated_chars = decode(reverse_char_table, model.generate(context.unsqueeze(0), max_new_tokens = 30)[0].tolist())\n",
    "    print(generated_chars)"
   ]
  },
  {
   "cell_type": "markdown",
   "id": "65e5a721",
   "metadata": {},
   "source": [
    "# Step By Step"
   ]
  },
  {
   "cell_type": "markdown",
   "id": "6e16b56a",
   "metadata": {},
   "source": [
    "We will use a simple *text* containing 100 times the same chars: *ABCA*. First we need to encode it, simply using an integer char table."
   ]
  },
  {
   "cell_type": "code",
   "execution_count": 158,
   "id": "10a7503e",
   "metadata": {},
   "outputs": [
    {
     "name": "stdout",
     "output_type": "stream",
     "text": [
      "First 20 chars in our dataset: ABCAABCAABCAABCAABCA\n",
      "Char table: {'A': 0, 'B': 1, 'C': 2}\n",
      "Vocabulary size is: 3\n"
     ]
    }
   ],
   "source": [
    "data = 'ABCA' * 100\n",
    "\n",
    "chars = sorted(list(set(''.join(data))))\n",
    "vocab_size = len(chars)\n",
    "char_table = {char:index for index,char in enumerate(chars)}\n",
    "encoded_data = torch.tensor(encode(char_table = char_table, text = data), dtype=torch.long)\n",
    "\n",
    "print(f'First 20 chars in our dataset: {data[:20]}')\n",
    "print(f'Char table: {char_table}')\n",
    "print(f'Vocabulary size is: {vocab_size}')"
   ]
  },
  {
   "cell_type": "markdown",
   "id": "acfd683a",
   "metadata": {},
   "source": [
    "Now we will take ```batch_size``` sequences of length ```block_size``` from random positions in text, in this case **2 blocks** with a length of **4 chars** each:"
   ]
  },
  {
   "cell_type": "code",
   "execution_count": 166,
   "id": "b99b408c",
   "metadata": {},
   "outputs": [
    {
     "data": {
      "text/plain": [
       "tensor([[0, 1, 2, 0],\n",
       "        [0, 0, 1, 2]], device='mps:0')"
      ]
     },
     "execution_count": 166,
     "metadata": {},
     "output_type": "execute_result"
    }
   ],
   "source": [
    "block_size = 4 # tokens per block/sequence\n",
    "batch_size = 2 # blocks per batch\n",
    "\n",
    "random_block_start_indices = torch.randint(len(encoded_data) - block_size, (batch_size,))\n",
    "            \n",
    "X_batch = torch.stack([encoded_data[index:index + block_size] for index in random_block_start_indices])\n",
    "X_batch = X_batch.to(device)\n",
    "X_batch"
   ]
  },
  {
   "cell_type": "markdown",
   "id": "2e6977a0",
   "metadata": {},
   "source": [
    "This gives us a batch of blocks (or sequences) that we can use for training. \n",
    "We could translate this back to readable chars:"
   ]
  },
  {
   "cell_type": "code",
   "execution_count": 167,
   "id": "962b5bd7",
   "metadata": {},
   "outputs": [
    {
     "name": "stdout",
     "output_type": "stream",
     "text": [
      "['ABCA', 'AABC']\n"
     ]
    }
   ],
   "source": [
    "print([''.join(list(char_table.keys())[idx] for idx in sequence) for sequence in X_batch.cpu().numpy()])"
   ]
  },
  {
   "cell_type": "code",
   "execution_count": 169,
   "id": "a622340f",
   "metadata": {},
   "outputs": [
    {
     "data": {
      "text/plain": [
       "tensor([[[ 1.7042,  0.7347,  0.1688],\n",
       "         [ 0.1699, -0.4541, -1.7925],\n",
       "         [-0.1837, -0.4113, -1.7933],\n",
       "         [ 1.7042,  0.7347,  0.1688]],\n",
       "\n",
       "        [[ 1.7042,  0.7347,  0.1688],\n",
       "         [ 1.7042,  0.7347,  0.1688],\n",
       "         [ 0.1699, -0.4541, -1.7925],\n",
       "         [-0.1837, -0.4113, -1.7933]]], device='mps:0',\n",
       "       grad_fn=<EmbeddingBackward0>)"
      ]
     },
     "execution_count": 169,
     "metadata": {},
     "output_type": "execute_result"
    }
   ],
   "source": [
    "embedding_size = 3\n",
    "\n",
    "token_embeddings_table = nn.Embedding(num_embeddings=vocab_size, embedding_dim=embedding_size).to(device)\n",
    "X_token_embeddings = token_embeddings_table(X_batch)\n",
    "X_token_embeddings"
   ]
  },
  {
   "cell_type": "code",
   "execution_count": 197,
   "id": "133176bc",
   "metadata": {},
   "outputs": [
    {
     "data": {
      "text/plain": [
       "tensor([0, 1, 2, 3], device='mps:0')"
      ]
     },
     "execution_count": 197,
     "metadata": {},
     "output_type": "execute_result"
    }
   ],
   "source": [
    "position_embeddings_table = nn.Embedding(num_embeddings=vocab_size, embedding_dim=embedding_size).to(device)\n",
    "positions = torch.arange(block_size, device = device)\n",
    "positions"
   ]
  },
  {
   "cell_type": "code",
   "execution_count": 199,
   "id": "bf967c8d",
   "metadata": {},
   "outputs": [
    {
     "data": {
      "text/plain": [
       "tensor([[-0.8644, -0.6244,  1.1936],\n",
       "        [ 1.8613,  1.4914, -1.2505],\n",
       "        [-0.3755, -0.2110,  0.7012],\n",
       "        [ 0.0000,  0.0000,  0.0000]], device='mps:0',\n",
       "       grad_fn=<EmbeddingBackward0>)"
      ]
     },
     "execution_count": 199,
     "metadata": {},
     "output_type": "execute_result"
    }
   ],
   "source": [
    "X_position_embeddings = position_embeddings_table(positions)\n",
    "X_position_embeddings"
   ]
  },
  {
   "cell_type": "code",
   "execution_count": 191,
   "id": "860bb5c0",
   "metadata": {},
   "outputs": [
    {
     "data": {
      "text/plain": [
       "tensor([[[ 0.8821,  1.9137,  1.6605],\n",
       "         [ 0.1674,  0.3899, -1.0054],\n",
       "         [-0.7229,  0.5058, -3.5047],\n",
       "         [ 1.7042,  0.7347,  0.1688]],\n",
       "\n",
       "        [[ 0.8821,  1.9137,  1.6605],\n",
       "         [ 1.7017,  1.5787,  0.9559],\n",
       "         [-0.3693,  0.4630, -3.5038],\n",
       "         [-0.1837, -0.4113, -1.7933]]], device='mps:0', grad_fn=<AddBackward0>)"
      ]
     },
     "execution_count": 191,
     "metadata": {},
     "output_type": "execute_result"
    }
   ],
   "source": [
    "X_embeddings = X_token_embeddings + X_position_embeddings\n",
    "X_embeddings"
   ]
  },
  {
   "cell_type": "markdown",
   "id": "d0559b17",
   "metadata": {},
   "source": [
    "Now we'll send our embeddings through the Block-Class and a the MultiHeadAttention-Class to the Head-Class where we first calculate our ```keys``` and ```queries``` using a *Linear Layer*:"
   ]
  },
  {
   "cell_type": "code",
   "execution_count": 230,
   "id": "a7aaee01",
   "metadata": {},
   "outputs": [
    {
     "name": "stdout",
     "output_type": "stream",
     "text": [
      "tensor([[[-0.5929],\n",
      "         [ 0.5622],\n",
      "         [ 1.9725],\n",
      "         [-0.1752]],\n",
      "\n",
      "        [[-0.5929],\n",
      "         [-0.4113],\n",
      "         [ 1.9159],\n",
      "         [ 0.8550]]], device='mps:0', grad_fn=<LinearBackward0>)\n",
      "tensor([[[-0.1706],\n",
      "         [-0.2536],\n",
      "         [-0.5840],\n",
      "         [-0.2957]],\n",
      "\n",
      "        [[-0.1706],\n",
      "         [-0.3180],\n",
      "         [-0.6159],\n",
      "         [-0.1994]]], device='mps:0', grad_fn=<LinearBackward0>)\n"
     ]
    }
   ],
   "source": [
    "# this is for training purposes, if we had multiple heads, we'd set this to embedding_size / num_heads, now every token is represented by\n",
    "# one scalar value only, which does not really make sense\n",
    "head_size = 1 \n",
    "\n",
    "linear_layer_keys = nn.Linear(in_features=embedding_size, out_features=head_size, bias=False).to(device)\n",
    "linear_layer_queries = nn.Linear(in_features=embedding_size, out_features=head_size, bias=False).to(device)\n",
    "keys = linear_layer_keys(X_embeddings)\n",
    "queries = linear_layer_queries(X_embeddings)\n",
    "print(keys)\n",
    "print(queries)\n"
   ]
  },
  {
   "cell_type": "code",
   "execution_count": 232,
   "id": "7123bfdf",
   "metadata": {},
   "outputs": [
    {
     "data": {
      "text/plain": [
       "tensor([[[ 0.1012, -0.0959, -0.3366,  0.0299],\n",
       "         [ 0.1504, -0.1426, -0.5002,  0.0444],\n",
       "         [ 0.3463, -0.3283, -1.1520,  0.1023],\n",
       "         [ 0.1753, -0.1662, -0.5833,  0.0518]],\n",
       "\n",
       "        [[ 0.1012,  0.0702, -0.3269, -0.1459],\n",
       "         [ 0.1886,  0.1308, -0.6093, -0.2719],\n",
       "         [ 0.3652,  0.2533, -1.1800, -0.5266],\n",
       "         [ 0.1182,  0.0820, -0.3821, -0.1705]]], device='mps:0',\n",
       "       grad_fn=<MulBackward0>)"
      ]
     },
     "execution_count": 232,
     "metadata": {},
     "output_type": "execute_result"
    }
   ],
   "source": [
    "scaled_attention_scores = queries @ keys.transpose(-2,-1) * keys.shape[-1] ** -0.5\n",
    "scaled_attention_scores"
   ]
  },
  {
   "cell_type": "code",
   "execution_count": 237,
   "id": "5df3ebfe",
   "metadata": {},
   "outputs": [
    {
     "data": {
      "text/plain": [
       "tensor([[1., 0., 0., 0.],\n",
       "        [1., 1., 0., 0.],\n",
       "        [1., 1., 1., 0.],\n",
       "        [1., 1., 1., 1.]], device='mps:0')"
      ]
     },
     "execution_count": 237,
     "metadata": {},
     "output_type": "execute_result"
    }
   ],
   "source": [
    "# \"sort out\" all the weights above the diagonale to make sure a token depends/attends on/to previous tokens\n",
    "triangular_matrix= torch.tril(torch.ones(block_size, block_size)).to(device)\n",
    "triangular_matrix"
   ]
  },
  {
   "cell_type": "code",
   "execution_count": 238,
   "id": "9473a76e",
   "metadata": {},
   "outputs": [
    {
     "data": {
      "text/plain": [
       "tensor([[[ 0.1012,    -inf,    -inf,    -inf],\n",
       "         [ 0.1504, -0.1426,    -inf,    -inf],\n",
       "         [ 0.3463, -0.3283, -1.1520,    -inf],\n",
       "         [ 0.1753, -0.1662, -0.5833,  0.0518]],\n",
       "\n",
       "        [[ 0.1012,    -inf,    -inf,    -inf],\n",
       "         [ 0.1886,  0.1308,    -inf,    -inf],\n",
       "         [ 0.3652,  0.2533, -1.1800,    -inf],\n",
       "         [ 0.1182,  0.0820, -0.3821, -0.1705]]], device='mps:0',\n",
       "       grad_fn=<MaskedFillBackward0>)"
      ]
     },
     "execution_count": 238,
     "metadata": {},
     "output_type": "execute_result"
    }
   ],
   "source": [
    "causal_attention_scores = scaled_attention_scores.masked_fill(triangular_matrix[:block_size, :block_size] == 0, float('-inf'))\n",
    "causal_attention_scores"
   ]
  },
  {
   "cell_type": "code",
   "execution_count": 239,
   "id": "053e7d0a",
   "metadata": {},
   "outputs": [
    {
     "data": {
      "text/plain": [
       "tensor([[[1.0000, 0.0000, 0.0000, 0.0000],\n",
       "         [0.5727, 0.4273, 0.0000, 0.0000],\n",
       "         [0.5771, 0.2939, 0.1290, 0.0000],\n",
       "         [0.3265, 0.2320, 0.1529, 0.2886]],\n",
       "\n",
       "        [[1.0000, 0.0000, 0.0000, 0.0000],\n",
       "         [0.5144, 0.4856, 0.0000, 0.0000],\n",
       "         [0.4745, 0.4243, 0.1012, 0.0000],\n",
       "         [0.3012, 0.2905, 0.1826, 0.2257]]], device='mps:0',\n",
       "       grad_fn=<SoftmaxBackward0>)"
      ]
     },
     "execution_count": 239,
     "metadata": {},
     "output_type": "execute_result"
    }
   ],
   "source": [
    "# normalize probabilities\n",
    "weights = torch.softmax(causal_attention_scores, dim=-1) # (B, T, T)\n",
    "weights"
   ]
  },
  {
   "cell_type": "code",
   "execution_count": 244,
   "id": "7e3e488a",
   "metadata": {},
   "outputs": [
    {
     "data": {
      "text/plain": [
       "tensor([[[0.0000, 0.0000, 0.0000, 0.0000],\n",
       "         [0.7159, 0.5341, 0.0000, 0.0000],\n",
       "         [0.7213, 0.3674, 0.1612, 0.0000],\n",
       "         [0.4081, 0.2900, 0.1911, 0.3607]],\n",
       "\n",
       "        [[1.2500, 0.0000, 0.0000, 0.0000],\n",
       "         [0.0000, 0.6070, 0.0000, 0.0000],\n",
       "         [0.5931, 0.5304, 0.0000, 0.0000],\n",
       "         [0.3765, 0.3631, 0.2283, 0.2821]]], device='mps:0',\n",
       "       grad_fn=<MulBackward0>)"
      ]
     },
     "execution_count": 244,
     "metadata": {},
     "output_type": "execute_result"
    }
   ],
   "source": [
    "dropout_rate = 0.2 # how many nodes to drop per each epoch\n",
    "\n",
    "# forget some weights\n",
    "dropout = nn.Dropout(dropout_rate)\n",
    "weights = dropout(weights)\n",
    "weights"
   ]
  },
  {
   "cell_type": "code",
   "execution_count": 245,
   "id": "a1127738",
   "metadata": {},
   "outputs": [
    {
     "data": {
      "text/plain": [
       "tensor([[[ 0.0000],\n",
       "         [ 0.1185],\n",
       "         [ 0.0589],\n",
       "         [-0.2447]],\n",
       "\n",
       "        [[ 0.5004],\n",
       "         [-0.0981],\n",
       "         [ 0.1517],\n",
       "         [-0.2473]]], device='mps:0', grad_fn=<UnsafeViewBackward0>)"
      ]
     },
     "execution_count": 245,
     "metadata": {},
     "output_type": "execute_result"
    }
   ],
   "source": [
    "linear_layer_values = nn.Linear(in_features=embedding_size, out_features=head_size, bias=False).to(device)\n",
    "values = linear_layer_values(X_embeddings)\n",
    "weighted_values = weights @ values\n",
    "weighted_values"
   ]
  },
  {
   "cell_type": "markdown",
   "id": "ecffd82f",
   "metadata": {},
   "source": [
    "In the next step, within the MultiHeadAttention-Class, the weighted values of each head will now be concatenated and another dropout will be applied. We can skip this, as we only simulate one head here. The final result will be send back to the Block-Class, where it will be processed further. First step is a Normalisation Layer:"
   ]
  },
  {
   "cell_type": "code",
   "execution_count": null,
   "id": "e6580e19",
   "metadata": {},
   "outputs": [],
   "source": [
    "normalisation_layer_1 = nn.LayerNorm(weighted_values)\n",
    "X_embeddings = normalisation_layer_1(X_embeddings + y)"
   ]
  },
  {
   "cell_type": "code",
   "execution_count": null,
   "id": "71ad8789",
   "metadata": {},
   "outputs": [],
   "source": [
    "feed_forward_layer = FeedForward(embedding_size)\n",
    "self.normalisation_layer_2 = nn.LayerNorm(embedding_size)\n",
    "\n",
    "def forward(self, X_embeddings):\n",
    "\n",
    "y = self.self_attention_layer(X_embeddings)\n",
    "y = self.feed_forward_layer(X_embeddings)\n",
    "X_embeddings = self.normalisation_layer_2(X_embeddings + y)\n"
   ]
  }
 ],
 "metadata": {
  "kernelspec": {
   "display_name": "Python 3",
   "language": "python",
   "name": "python3"
  },
  "language_info": {
   "codemirror_mode": {
    "name": "ipython",
    "version": 3
   },
   "file_extension": ".py",
   "mimetype": "text/x-python",
   "name": "python",
   "nbconvert_exporter": "python",
   "pygments_lexer": "ipython3",
   "version": "3.9.6"
  }
 },
 "nbformat": 4,
 "nbformat_minor": 5
}
