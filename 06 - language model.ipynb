{
 "cells": [
  {
   "cell_type": "markdown",
   "id": "229eb15f",
   "metadata": {},
   "source": [
    "# Overview\n",
    "This notebook has to main parts. The first part will guide you through the \"compact\" build process of the model and it's surroundings. The second part will go through the calculation process step by step. "
   ]
  },
  {
   "cell_type": "markdown",
   "id": "9df03f7b",
   "metadata": {},
   "source": [
    "# Part 1 - Built the Model and Learning Process"
   ]
  },
  {
   "cell_type": "markdown",
   "id": "f26fadf3",
   "metadata": {},
   "source": [
    "## Dependencies"
   ]
  },
  {
   "cell_type": "markdown",
   "id": "f84aa063",
   "metadata": {},
   "source": [
    "### Optional: GDrive connection\n",
    "If you want to run this on Google Colab, you can connect the notebook to your Google Drive to access training data from there. "
   ]
  },
  {
   "cell_type": "code",
   "execution_count": null,
   "id": "ffb6ff95",
   "metadata": {},
   "outputs": [],
   "source": [
    "from google.colab import drive\n",
    "drive.mount('/content/drive')"
   ]
  },
  {
   "cell_type": "markdown",
   "id": "3b3bea7a",
   "metadata": {},
   "source": [
    "### Libraries and Parameters"
   ]
  },
  {
   "cell_type": "code",
   "execution_count": 18,
   "id": "c351b7b9",
   "metadata": {},
   "outputs": [
    {
     "name": "stdout",
     "output_type": "stream",
     "text": [
      "Running on `mps`\n"
     ]
    }
   ],
   "source": [
    "import torch\n",
    "import torch.nn as nn\n",
    "import mmap\n",
    "import time\n",
    "import random\n",
    "import pickle\n",
    "from torchinfo import summary\n",
    "import matplotlib.pyplot as plt\n",
    "\n",
    "source_data_path = \"./\"\n",
    "source_data = \"text.txt\"\n",
    "model_export = \"model.pth\"\n",
    "\n",
    "device = 'cuda' if torch.cuda.is_available() else 'cpu'\n",
    "\n",
    "device = \"mps\" if torch.backends.mps.is_available() else device\n",
    "\n",
    "print(f'Running on `{device}`')\n",
    "\n",
    "batch_size = 8 # how many blocks per batch\n",
    "sequence_length = 8 # length of sequence of tokens, how many chars/words per sequence \n",
    "epochs = 10 # training iterations\n",
    "learning_rate = 0.0001 # step size per epoch\n",
    "embedding_size = 128 # the size of the embedding vectors that each token will be assigned to, like if set to 128, one token would be embedded into a vector of size 128\n",
    "num_transformer_blocks = 4 # amount of transformer blocks\n",
    "num_heads = 4 # amount of attention heads (per block), should be bigger as embedding_size, see next line\n",
    "attention_head_size = embedding_size // num_heads # dont change this, defining it here for better readability, using this operation simplifies process\n",
    "dropout_rate = 0.2 # how many nodes to drop per each epoch\n",
    "hidden_units_factor = 4 # how many hidden units for the sequential layer stack inside Feedforward-Module, using a factor here, will be multiplied with embedding_size, increases the models capability to process more complex patterns, also increases computational power\n",
    "train_split = 0.8 # test and train dataset split rate\n",
    "\n",
    "losses = {} # for statistical reasons"
   ]
  },
  {
   "cell_type": "markdown",
   "id": "3b370ca8",
   "metadata": {},
   "source": [
    "## Data\n",
    "I am giving you two options here: Either create a dummy data set with a lot of simple repetitions. This allows the model to learn fast. Or choose a real world example and skip the \"Dummy Data part\". \n",
    "\n",
    "If you are looking for better results, you may refer to e.g. **OpenWebText** or other available data sets. \n",
    "\n",
    "Also please note, that this basic implementation uses chars as token. If you want to tokenize on a word-base, you may implement a more sophisticated tokenizer."
   ]
  },
  {
   "cell_type": "markdown",
   "id": "393be78c",
   "metadata": {},
   "source": [
    "#### Dummy Data"
   ]
  },
  {
   "cell_type": "code",
   "execution_count": 5,
   "id": "90e9f846",
   "metadata": {},
   "outputs": [],
   "source": [
    "sentence = \"Hello World! Hello World! Hello World! \\n\"\n",
    "f_dummy_data = open(f\"{source_data_path}/{source_data}\", 'w')\n",
    "f_dummy_data.write(sentence * 1000)\n",
    "f_dummy_data.close()"
   ]
  },
  {
   "cell_type": "markdown",
   "id": "b03ab082",
   "metadata": {},
   "source": [
    "#### Prepare\n",
    "We are going to read the data (which can be found in ```source_data``` as defined on top) and split it into two parts: **Training** data and **testing** data. \n",
    "\n",
    "Next we get a list of all used `chars` and create two tables for encoding and decoding(`char_table` and `reverse_char_table`) text into vector of integers. The `vocab_size` shows the amount of different chars in the text."
   ]
  },
  {
   "cell_type": "code",
   "execution_count": 6,
   "id": "516b1cf6",
   "metadata": {},
   "outputs": [
    {
     "name": "stdout",
     "output_type": "stream",
     "text": [
      "Vocabulary size is 10\n"
     ]
    }
   ],
   "source": [
    "chars = \"\"\n",
    "full_text = []\n",
    "source_data_train = f\"train_{source_data}\"\n",
    "source_data_test = f\"test_{source_data}\"\n",
    "\n",
    "f_full_text = open(f\"{source_data_path}/{source_data}\", \"r\")\n",
    "f_training_text = open(f\"{source_data_path}/{source_data_train}\", 'w')\n",
    "f_test_test = open(f\"{source_data_path}/{source_data_test}\", 'w')\n",
    "\n",
    "for line in f_full_text:\n",
    "  r = random.random()\n",
    "  full_text.append(line)\n",
    "  if (0.0 <=  r <= train_split):\n",
    "    f_training_text.write(line)\n",
    "  else:\n",
    "    f_test_test.write(line)\n",
    "\n",
    "f_full_text.close()\n",
    "f_training_text.close()\n",
    "f_test_test.close()\n",
    "\n",
    "chars = sorted(list(set(' '.join(full_text))))\n",
    "char_table = {char:index for index,char in enumerate(chars)}\n",
    "reverse_char_table = {index:char for index,char in enumerate(char_table)}\n",
    "\n",
    "vocab_size = len(chars)\n",
    "del full_text\n",
    "\n",
    "print(f'Vocabulary size is {vocab_size}')"
   ]
  },
  {
   "cell_type": "markdown",
   "id": "205869ed",
   "metadata": {},
   "source": [
    "## Helper Functions"
   ]
  },
  {
   "cell_type": "markdown",
   "id": "9ec3a686",
   "metadata": {},
   "source": [
    "We will create four functions:\n",
    "`encode()` and `decode()` will allow us to convert text to a vector of integers and back. \n",
    "\n",
    "`get_batch` and `get_random_chunk` will randomly read text chunks from our **training** and **testing** data set.\n",
    "\n",
    "`get_random_chunk` returns one big block of from a random position in the source file.\n",
    "\n",
    "`get_batch` will dismantle the block into smaller sequences with a length of `sequence_length`. It will split the data into train and test data sets. The test data set is shifted by one char."
   ]
  },
  {
   "cell_type": "code",
   "execution_count": 7,
   "id": "506ad003",
   "metadata": {},
   "outputs": [],
   "source": [
    "def encode(char_table: list, text: str = None):\n",
    "  return [char_table[char] for char in text]\n",
    "\n",
    "def decode(char_table: list, numbers: list = []):\n",
    "  return ''.join([char_table[index] for index in numbers])\n",
    "\n",
    "def get_random_chunk(split):\n",
    "    filename = f\"{source_data_path}/{source_data_train}\" if split == 'train' else f\"{source_data_path}/{source_data_test}\"\n",
    "    with open(filename, 'r') as f:\n",
    "        with mmap.mmap(f.fileno(), 0, access=mmap.ACCESS_READ) as mm:\n",
    "            # Determine the file size and a random position to start reading\n",
    "            file_size = len(mm)\n",
    "            start_pos = random.randint(0, (file_size) - sequence_length * batch_size)\n",
    "\n",
    "            # Seek to the random position and read data binary\n",
    "            mm.seek(start_pos)\n",
    "            raw_data = mm.read(sequence_length * batch_size - 1)\n",
    "\n",
    "            # Decode the block to a string, ignoring any invalid byte sequences\n",
    "            data = raw_data.decode('utf-8', errors='ignore').replace('\\r', '')\n",
    "\n",
    "            # encode to torch tensor using char table\n",
    "            encoded_data = torch.tensor(encode(char_table = char_table, text = data), dtype=torch.long)\n",
    "\n",
    "    return encoded_data\n",
    "\n",
    "\n",
    "def get_batch(split):\n",
    "    \n",
    "    encoded_data = get_random_chunk(split)\n",
    "    random_block_start_indices = torch.randint(len(encoded_data) - sequence_length, (batch_size,))\n",
    "\n",
    "    input_sequences = torch.stack([encoded_data[index:index + sequence_length] for index in random_block_start_indices])\n",
    "    target_sequences = torch.stack([encoded_data[index + 1:index + sequence_length + 1] for index in random_block_start_indices])\n",
    "\n",
    "    return input_sequences.to(device), target_sequences.to(device)"
   ]
  },
  {
   "cell_type": "markdown",
   "id": "d279da1e",
   "metadata": {},
   "source": [
    "The following part just tests encoding and decoding feature:"
   ]
  },
  {
   "cell_type": "code",
   "execution_count": 8,
   "id": "33eded27",
   "metadata": {},
   "outputs": [
    {
     "name": "stdout",
     "output_type": "stream",
     "text": [
      "Encoding `Hello World! ` to  `[3, 6, 7, 7, 8, 1, 4, 8, 9, 7, 5, 2] ` and back to  `Hello World! `\n"
     ]
    }
   ],
   "source": [
    "text = 'Hello World!'\n",
    "encoded_text = encode(char_table, 'Hello World!')\n",
    "decoded_text = decode(reverse_char_table, encoded_text)\n",
    "print(f'Encoding `{text} ` to  `{encoded_text} ` and back to  `{decoded_text} `')"
   ]
  },
  {
   "cell_type": "markdown",
   "id": "643755c6",
   "metadata": {},
   "source": [
    "## Model Classes\n",
    "This part defines the model structure. I am referring to the Multi-Head attention approach. I am not going into detail about mathematics. \n",
    "\n",
    "This is the comprised structure:\n",
    "\n",
    "- create **token** and **position embeddings** of the input text and pass them to\n",
    "- a sequential layer stack of `num_blocks` blocks \n",
    "  - pass embeddings to one **MultiHeadAttention** per block consisting of `num_heads` of heads for **self-attention calculation**\n",
    "    - pass result to a linear **projection layer**\n",
    "    - apply dropout of `dropout_rate` nodes \n",
    "  - pass results to the first **normalisation layer**\n",
    "  - pass results to a **feed forward layer**, which consists of a sequential layer stack of\n",
    "    - a linear layer\n",
    "    - a non-linear ReLU layer\n",
    "    - a linear layer\n",
    "    - another dropout layer\n",
    "  - pass results to the second **normalisation layer**\n",
    "- pass results to another **normalisation layer**\n",
    "- pass results to a final **linear layer**\n",
    "- reset the weights"
   ]
  },
  {
   "cell_type": "code",
   "execution_count": 42,
   "id": "7c5efd26",
   "metadata": {},
   "outputs": [],
   "source": [
    "class Head(nn.Module):\n",
    "\n",
    "    def __init__(self):\n",
    "        super().__init__()\n",
    "        \n",
    "        self.linear_layer_keys = nn.Linear(in_features=embedding_size, out_features=attention_head_size, bias=False)\n",
    "        self.linear_layer_queries = nn.Linear(in_features=embedding_size, out_features=attention_head_size, bias=False)\n",
    "        self.linear_layer_values = nn.Linear(in_features=embedding_size, out_features=attention_head_size, bias=False)\n",
    "        \n",
    "        # lower triangular matrix\n",
    "        # .register_buffer register \"not trainable parameters\" for the model\n",
    "        # .tril() takes a tensor and changes all values above a diagonal (top left to bottom right) to 0\n",
    "        self.register_buffer('tril', torch.tril(torch.ones(sequence_length, sequence_length))) \n",
    "\n",
    "        # forget nodes\n",
    "        self.dropout = nn.Dropout(dropout_rate)\n",
    "\n",
    "    def forward(self, X_embeddings):\n",
    "        \n",
    "        # input shape (batch_size, sequence_length (time steps), number of features (channels))\n",
    "        # output shape (batch_size, sequence_length (time steps), head_size)\n",
    "\n",
    "        keys = self.linear_layer_keys(X_embeddings)\n",
    "        queries = self.linear_layer_queries(X_embeddings)\n",
    "        values = self.linear_layer_values(X_embeddings)\n",
    "\n",
    "        # compute attention scores (\"affinities\")\n",
    "        \n",
    "        # the core of this model: the attention mechanism\n",
    "        # scaled dot product attention by matrix multiplication and scaling the result using square root of the head_size\n",
    "        # we could either divide by square root of head size or multiple by inverse square root of head size, result is the same\n",
    "        scaled_attention_scores = queries @ keys.transpose(-2,-1) * keys.shape[-1] ** -0.5\n",
    "        \n",
    "        # \"sort out\" all the weights above the diagonale to make sure a token depends/attends on/to previous tokens\n",
    "        causal_attention_scores = scaled_attention_scores.masked_fill(self.tril[:sequence_length, :sequence_length] == 0, float('-inf'))\n",
    "        \n",
    "        # normalize probabilities\n",
    "        weights = torch.softmax(causal_attention_scores, dim=-1)\n",
    "        \n",
    "        # forget some weights\n",
    "        weights = self.dropout(weights)\n",
    "\n",
    "        # perform the weighted aggregation of the values\n",
    "        weighted_values = weights @ values\n",
    "        return weighted_values\n",
    "\n",
    "class MultiHeadAttention(nn.Module):\n",
    "    \"\"\" multiple heads of self-attention in parallel, in contrast to the \"classical\" encoder-decoder attention \"\"\"\n",
    "\n",
    "    def __init__(self):\n",
    "        super().__init__()\n",
    "        \n",
    "        self.heads = nn.ModuleList([Head() for head in range(num_heads)])\n",
    "        self.projections = nn.Linear(attention_head_size * num_heads, embedding_size)\n",
    "        self.dropout = nn.Dropout(dropout_rate)\n",
    "\n",
    "    def forward(self, X_embeddings):\n",
    "        weighted_values = torch.cat([head(X_embeddings) for head in self.heads], dim=-1) \n",
    "        weighted_values = self.dropout(self.projections(weighted_values))\n",
    "        return weighted_values\n",
    "\n",
    "class FeedForward(nn.Module):\n",
    "    \"\"\" a simple linear layer followed by a non-linearity \"\"\"\n",
    "\n",
    "    def __init__(self):\n",
    "        super().__init__()\n",
    "        self.linear_layer_stack = nn.Sequential(\n",
    "            nn.Linear(in_features = embedding_size, out_features = hidden_units_factor * embedding_size),\n",
    "            nn.ReLU(),\n",
    "            nn.Linear(in_features = hidden_units_factor * embedding_size, out_features = embedding_size),\n",
    "            nn.Dropout(dropout_rate),\n",
    "        )\n",
    "\n",
    "    def forward(self, X):\n",
    "        return self.linear_layer_stack(X)\n",
    "\n",
    "class TransformerBlock(nn.Module):\n",
    "    \n",
    "    def __init__(self):\n",
    "        super().__init__()\n",
    "        \n",
    "        self.self_attention_layer = MultiHeadAttention()\n",
    "        self.layer_normalisation_1 = nn.LayerNorm(embedding_size)\n",
    "        \n",
    "        self.feed_forward_layer = FeedForward()\n",
    "        self.layer_normalisation_2 = nn.LayerNorm(embedding_size)\n",
    "\n",
    "    def forward(self, X_embeddings):\n",
    "        \n",
    "        y = self.self_attention_layer(X_embeddings) # relationships and interactions, create a context\n",
    "        X_embeddings = self.layer_normalisation_1(X_embeddings + y) # residual connection to mitigate the vanishing gradient\n",
    "        \n",
    "        y = self.feed_forward_layer(X_embeddings) # refine individual characteristics\n",
    "        X_embeddings = self.layer_normalisation_2(X_embeddings + y) # residual connection to mitigate the vanishing gradient\n",
    "        \n",
    "        return X_embeddings\n",
    "\n",
    "class GPTLanguageModel(nn.Module):\n",
    "    \n",
    "    def __init__(self, vocab_size):\n",
    "        super().__init__()\n",
    "        \n",
    "        self.token_embedding_table = nn.Embedding(num_embeddings=vocab_size, embedding_dim=embedding_size)\n",
    "        self.position_embedding_table = nn.Embedding(num_embeddings=sequence_length, embedding_dim=embedding_size)\n",
    "        \n",
    "        self.blocks = nn.Sequential(*[TransformerBlock() for layer in range(num_transformer_blocks)])\n",
    "        self.layer_normalisation = nn.LayerNorm(embedding_size)\n",
    "        self.final_layer = nn.Linear(embedding_size, vocab_size)\n",
    "\n",
    "        self.apply(self._init_weights)\n",
    "\n",
    "    def _init_weights(self, module):\n",
    "        if isinstance(module, nn.Linear):\n",
    "            torch.nn.init.normal_(module.weight, mean=0.0, std=0.02)\n",
    "            if module.bias is not None:\n",
    "                torch.nn.init.zeros_(module.bias)\n",
    "        elif isinstance(module, nn.Embedding):\n",
    "            torch.nn.init.normal_(module.weight, mean=0.0, std=0.02)\n",
    "\n",
    "    def forward(self, X_batch):\n",
    "        # X_batch - a batch of blocks (aka sequences), each containing chars\n",
    "\n",
    "        # from a simple encoding like [0] (for `A`) to an embedding vector where each token is represented by it's own vector of size \"embedding_size\" like [0.0265, 0.0334]\n",
    "        X_token_embeddings = self.token_embedding_table(X_batch) \n",
    "        \n",
    "        # sequence_length - Block Size/Time Steps - how many chars within a block (aka sequence)\n",
    "        X_position_embeddings = self.position_embedding_table(torch.arange(sequence_length, device = device))\n",
    "        \n",
    "        X_embeddings = X_token_embeddings + X_position_embeddings\n",
    "        \n",
    "        labels = self.blocks(X_embeddings) # (B,T,C)\n",
    "        labels = self.layer_normalisation(labels) # (B,T,C)\n",
    "        labels = self.final_layer(labels) # (Batch Size, Block Size, Vocab Size)\n",
    "\n",
    "        return labels\n",
    "\n",
    "    def generate(self, context, max_new_tokens):\n",
    "        # context is encoded prompt as a tensor of floats with shape = (Batch Size, Block Size Dummy) \n",
    "        for new_token in range(max_new_tokens):\n",
    "            # get block from context\n",
    "            block = context[:, -sequence_length:]\n",
    "            # let the model calculate prediction logits\n",
    "            y_logits = self.forward(block)\n",
    "            # focus only on the last time step\n",
    "            y_logits = y_logits[:, -1, :] # becomes (B, C)\n",
    "            # apply softmax to get probabilities\n",
    "            y_prediction_probs = torch.softmax(y_logits, dim=-1) # (B, C)\n",
    "            # sample from the distribution\n",
    "            y_predicted = torch.multinomial(y_prediction_probs, num_samples=1) # (B, 1)\n",
    "            # append predicted label to the sequence\n",
    "            context = torch.cat((context, y_predicted), dim=1) # (B, T+1)\n",
    "        return context"
   ]
  },
  {
   "cell_type": "markdown",
   "id": "9b9b9bec",
   "metadata": {},
   "source": [
    "## Training process\n",
    "### Init the model\n",
    "This is where the preparation ends. We are ready to **init** our model. \n",
    "\n",
    "We are using the **AdamW optimizier** and the common **cross entropy** loss function. \n",
    "\n",
    "If you want to start over, do it here:"
   ]
  },
  {
   "cell_type": "code",
   "execution_count": 43,
   "id": "91a3457e",
   "metadata": {},
   "outputs": [],
   "source": [
    "model = GPTLanguageModel(vocab_size)\n",
    "\n",
    "model.to(device)\n",
    "\n",
    "optimizer = torch.optim.AdamW(model.parameters(), lr=learning_rate)\n",
    "\n",
    "loss_fn = nn.CrossEntropyLoss()\n",
    "\n",
    "losses = {\n",
    "    'epoch': [],\n",
    "    'loss_train': [],\n",
    "    'loss_test': [],\n",
    "    'duration': 0 # seconds\n",
    "}"
   ]
  },
  {
   "cell_type": "markdown",
   "id": "4f45d01e",
   "metadata": {},
   "source": [
    "### Training loop\n",
    "Now we are ready to start the trainign and test loop. I am referring to the suggested approach by Daniel Bourke (checkout his \"*Optimization loop song*: https://www.youtube.com/watch?v=Nutpusq_AFw).\n",
    "\n",
    "This is the rough architecture behind the loop:\n",
    "\n",
    "- get a fresh and random batch of data\n",
    "- pass training data (`features_train`) to the model\n",
    "- calculate the loss by comparing the predicted results `labels_logits`to the expected results `labels_traing`\n",
    "- zero grad the optimizer\n",
    "- do back propagation of the loss\n",
    "- update parameters via optimizer function\n",
    "- start testing in torch's inference mode\n",
    "- calclate the test los by comparing the predicted test results `labels_logits` to the expected test results `labels_test`\n",
    "\n",
    "We will record train and test losses to plot them later."
   ]
  },
  {
   "cell_type": "code",
   "execution_count": 44,
   "id": "7b3838bc",
   "metadata": {},
   "outputs": [
    {
     "name": "stdout",
     "output_type": "stream",
     "text": [
      "Device: mps\n",
      "Batch Size: 8\n",
      "Block Size: 8\n",
      "Epochs: 10\n",
      "Learning Rate: 0.0001\n",
      "Embeddings: 128\\Blocks: 4\n",
      "Heads: 4\n",
      "Dropout Rate: 0.2\n",
      "Hidden Units Factor: 4\n",
      "Train/Test Split: 0.8\n",
      "--\n",
      "\n",
      "Epoch 0 | Train loss 2.39 | Test Loss 2.29\n",
      "Epoch 1 | Train loss 2.35 | Test Loss 2.32\n",
      "Epoch 2 | Train loss 2.28 | Test Loss 2.27\n",
      "Epoch 3 | Train loss 2.28 | Test Loss 2.26\n",
      "Epoch 4 | Train loss 2.24 | Test Loss 2.23\n",
      "Epoch 5 | Train loss 2.22 | Test Loss 2.18\n",
      "Epoch 6 | Train loss 2.19 | Test Loss 2.17\n",
      "Epoch 7 | Train loss 2.21 | Test Loss 2.17\n",
      "Epoch 8 | Train loss 2.16 | Test Loss 2.10\n",
      "Epoch 9 | Train loss 2.11 | Test Loss 2.10\n"
     ]
    }
   ],
   "source": [
    "print(f\"Device: {device}\\nBatch Size: {batch_size}\\nBlock Size: {sequence_length}\\nEpochs: {epochs}\\nLearning Rate: {learning_rate}\\n\"\n",
    "      f\"Embeddings: {embedding_size}\\Blocks: {num_transformer_blocks}\\nHeads: {num_heads}\\n\"\n",
    "      f\"Dropout Rate: {dropout_rate}\\nHidden Units Factor: {hidden_units_factor}\\nTrain/Test Split: {train_split}\\n--\\n\")\n",
    "\n",
    "start = time.time()\n",
    "\n",
    "start_epoch = 0 if len(losses['epoch']) == 0 else losses['epoch'][-1]\n",
    "\n",
    "for epoch in range(start_epoch, start_epoch + epochs):\n",
    "\n",
    "    # TRAIN\n",
    "    model.train()\n",
    "\n",
    "    # GET BATCH OF TRAINING DATA\n",
    "    # ALREADY CONTAINS CHAR-ENCODED TEXT LIKE `3, 6, 7, 7, 8` for `HELLO`\n",
    "    X_train, y_train = get_batch('train')\n",
    "    # PREDICTIONS\n",
    "    labels_logits = model(X_train)\n",
    "\n",
    "    # LOSS\n",
    "    curr_batches, curr_blocks, curr_classes = labels_logits.shape\n",
    "    labels_logits = labels_logits.view(curr_batches * curr_blocks, curr_classes) # merge Batches to one single batch, also keep number of classes\n",
    "    y_train = y_train.view(curr_batches * curr_blocks) # merge Batches to one single batch, no classes required for cross_entropy\n",
    "    loss_train = loss_fn(labels_logits, y_train)\n",
    "\n",
    "    # SET OPTIMIZER TO ZERO\n",
    "    optimizer.zero_grad(set_to_none=True)\n",
    "    \n",
    "    # BACK PROPAGATION \n",
    "    loss_train.backward()\n",
    "\n",
    "    # UPDATE PARAMETERS\n",
    "    optimizer.step()\n",
    "\n",
    "    # LOG\n",
    "    if epochs < 10 or epoch % int(epochs / 10) == 0:\n",
    "\n",
    "      # TEST  \n",
    "      model.eval()\n",
    "      with torch.inference_mode():\n",
    "        features_test, labels_test = get_batch('test')\n",
    "        labels_logits = model(features_test)\n",
    "        curr_batches, curr_blocks, curr_classes = labels_logits.shape\n",
    "        labels_logits = labels_logits.view(curr_batches * curr_blocks, curr_classes) # merge Batches to one single batch, also keep number of classes\n",
    "        labels_test = labels_test.view(curr_batches * curr_blocks) # merge Batches to one single batch, no classes required for cross_entropy\n",
    "        loss_test = loss_fn(labels_logits, labels_test)\n",
    "\n",
    "      print(f\"Epoch {epoch} | Train loss {loss_train:.2f} | Test Loss {loss_test:.2f}\")\n",
    "      \n",
    "      losses['epoch'].append(epoch)\n",
    "      losses['loss_train'].append(loss_train.cpu().item())\n",
    "      losses['loss_test'].append(loss_test.cpu().item())\n",
    "      losses['duration'] += (time.time() - start)\n"
   ]
  },
  {
   "cell_type": "markdown",
   "id": "18076e3f",
   "metadata": {},
   "source": [
    "## Plot results\n",
    "We will plot train and test losses for each epoch to see how the loss goes down - hopefully."
   ]
  },
  {
   "cell_type": "code",
   "execution_count": 45,
   "id": "ae508674",
   "metadata": {},
   "outputs": [
    {
     "data": {
      "image/png": "[encoded data removed]",
      "text/plain": [
       "<Figure size 500x500 with 2 Axes>"
      ]
     },
     "metadata": {},
     "output_type": "display_data"
    }
   ],
   "source": [
    "fig, ax1 = plt.subplots(figsize=(5, 5))\n",
    "fontsize = 10\n",
    "line_width = 0.5\n",
    "y_axis_limit = int(max(losses['loss_train'] + losses['loss_test']) * 1.25)\n",
    "\n",
    "ax1.plot(losses['epoch'], losses['loss_train'], color='red', label='Train Loss', linewidth=line_width + 1)\n",
    "ax1.set_xlabel('Epoch', fontsize=fontsize)\n",
    "ax1.set_ylabel('Train Loss', color='red', fontsize=fontsize)\n",
    "ax1.tick_params('y', colors='red', labelsize=fontsize)\n",
    "ax1.set_ylim(0, y_axis_limit) \n",
    "\n",
    "ax2 = ax1.twinx()\n",
    "ax2.plot(losses['epoch'], losses['loss_test'], color='green', label='Test Loss', linewidth=line_width)\n",
    "ax2.set_ylabel('Test Loss', color='green', fontsize=fontsize)\n",
    "ax2.tick_params('y', colors='green', labelsize=fontsize)\n",
    "ax2.set_ylim(0, y_axis_limit) \n",
    "\n",
    "plt.title(f'Train/Test Loss after {(losses[\"duration\"]):.2f} seconds')\n",
    "fig.tight_layout()\n",
    "plt.show()"
   ]
  },
  {
   "cell_type": "markdown",
   "id": "3568a1fe",
   "metadata": {},
   "source": [
    "## Aftermath\n",
    "### Loading and saving the model\n",
    "\n",
    "We can utilize two functions to persist the model's result\n",
    "- either putting everything to a pickel file or\n",
    "- using PyTorch's state dic export feature"
   ]
  },
  {
   "cell_type": "code",
   "execution_count": 30,
   "id": "6bc413b0",
   "metadata": {},
   "outputs": [],
   "source": [
    "torch.save(obj = model.state_dict(), f = model_export)"
   ]
  },
  {
   "cell_type": "code",
   "execution_count": 31,
   "id": "779577f8",
   "metadata": {},
   "outputs": [
    {
     "data": {
      "text/plain": [
       "GPTLanguageModel(\n",
       "  (token_embedding_table): Embedding(10, 128)\n",
       "  (position_embedding_table): Embedding(8, 128)\n",
       "  (blocks): Sequential(\n",
       "    (0): TransformerBlock(\n",
       "      (self_attention_layer): MultiHeadAttention(\n",
       "        (heads): ModuleList(\n",
       "          (0-3): 4 x Head(\n",
       "            (linear_layer_keys): Linear(in_features=128, out_features=32, bias=False)\n",
       "            (linear_layer_queries): Linear(in_features=128, out_features=32, bias=False)\n",
       "            (linear_layer_values): Linear(in_features=128, out_features=32, bias=False)\n",
       "            (dropout): Dropout(p=0.2, inplace=False)\n",
       "          )\n",
       "        )\n",
       "        (projections): Linear(in_features=128, out_features=128, bias=True)\n",
       "        (dropout): Dropout(p=0.2, inplace=False)\n",
       "      )\n",
       "      (layer_normalisation_1): LayerNorm((128,), eps=1e-05, elementwise_affine=True)\n",
       "      (feed_forward_layer): FeedForward(\n",
       "        (linear_layer_stack): Sequential(\n",
       "          (0): Linear(in_features=128, out_features=512, bias=True)\n",
       "          (1): ReLU()\n",
       "          (2): Linear(in_features=512, out_features=128, bias=True)\n",
       "          (3): Dropout(p=0.2, inplace=False)\n",
       "        )\n",
       "      )\n",
       "      (layer_normalisation_2): LayerNorm((128,), eps=1e-05, elementwise_affine=True)\n",
       "    )\n",
       "    (1): TransformerBlock(\n",
       "      (self_attention_layer): MultiHeadAttention(\n",
       "        (heads): ModuleList(\n",
       "          (0-3): 4 x Head(\n",
       "            (linear_layer_keys): Linear(in_features=128, out_features=32, bias=False)\n",
       "            (linear_layer_queries): Linear(in_features=128, out_features=32, bias=False)\n",
       "            (linear_layer_values): Linear(in_features=128, out_features=32, bias=False)\n",
       "            (dropout): Dropout(p=0.2, inplace=False)\n",
       "          )\n",
       "        )\n",
       "        (projections): Linear(in_features=128, out_features=128, bias=True)\n",
       "        (dropout): Dropout(p=0.2, inplace=False)\n",
       "      )\n",
       "      (layer_normalisation_1): LayerNorm((128,), eps=1e-05, elementwise_affine=True)\n",
       "      (feed_forward_layer): FeedForward(\n",
       "        (linear_layer_stack): Sequential(\n",
       "          (0): Linear(in_features=128, out_features=512, bias=True)\n",
       "          (1): ReLU()\n",
       "          (2): Linear(in_features=512, out_features=128, bias=True)\n",
       "          (3): Dropout(p=0.2, inplace=False)\n",
       "        )\n",
       "      )\n",
       "      (layer_normalisation_2): LayerNorm((128,), eps=1e-05, elementwise_affine=True)\n",
       "    )\n",
       "    (2): TransformerBlock(\n",
       "      (self_attention_layer): MultiHeadAttention(\n",
       "        (heads): ModuleList(\n",
       "          (0-3): 4 x Head(\n",
       "            (linear_layer_keys): Linear(in_features=128, out_features=32, bias=False)\n",
       "            (linear_layer_queries): Linear(in_features=128, out_features=32, bias=False)\n",
       "            (linear_layer_values): Linear(in_features=128, out_features=32, bias=False)\n",
       "            (dropout): Dropout(p=0.2, inplace=False)\n",
       "          )\n",
       "        )\n",
       "        (projections): Linear(in_features=128, out_features=128, bias=True)\n",
       "        (dropout): Dropout(p=0.2, inplace=False)\n",
       "      )\n",
       "      (layer_normalisation_1): LayerNorm((128,), eps=1e-05, elementwise_affine=True)\n",
       "      (feed_forward_layer): FeedForward(\n",
       "        (linear_layer_stack): Sequential(\n",
       "          (0): Linear(in_features=128, out_features=512, bias=True)\n",
       "          (1): ReLU()\n",
       "          (2): Linear(in_features=512, out_features=128, bias=True)\n",
       "          (3): Dropout(p=0.2, inplace=False)\n",
       "        )\n",
       "      )\n",
       "      (layer_normalisation_2): LayerNorm((128,), eps=1e-05, elementwise_affine=True)\n",
       "    )\n",
       "    (3): TransformerBlock(\n",
       "      (self_attention_layer): MultiHeadAttention(\n",
       "        (heads): ModuleList(\n",
       "          (0-3): 4 x Head(\n",
       "            (linear_layer_keys): Linear(in_features=128, out_features=32, bias=False)\n",
       "            (linear_layer_queries): Linear(in_features=128, out_features=32, bias=False)\n",
       "            (linear_layer_values): Linear(in_features=128, out_features=32, bias=False)\n",
       "            (dropout): Dropout(p=0.2, inplace=False)\n",
       "          )\n",
       "        )\n",
       "        (projections): Linear(in_features=128, out_features=128, bias=True)\n",
       "        (dropout): Dropout(p=0.2, inplace=False)\n",
       "      )\n",
       "      (layer_normalisation_1): LayerNorm((128,), eps=1e-05, elementwise_affine=True)\n",
       "      (feed_forward_layer): FeedForward(\n",
       "        (linear_layer_stack): Sequential(\n",
       "          (0): Linear(in_features=128, out_features=512, bias=True)\n",
       "          (1): ReLU()\n",
       "          (2): Linear(in_features=512, out_features=128, bias=True)\n",
       "          (3): Dropout(p=0.2, inplace=False)\n",
       "        )\n",
       "      )\n",
       "      (layer_normalisation_2): LayerNorm((128,), eps=1e-05, elementwise_affine=True)\n",
       "    )\n",
       "  )\n",
       "  (layer_normalisation): LayerNorm((128,), eps=1e-05, elementwise_affine=True)\n",
       "  (final_layer): Linear(in_features=128, out_features=10, bias=True)\n",
       ")"
      ]
     },
     "execution_count": 31,
     "metadata": {},
     "output_type": "execute_result"
    }
   ],
   "source": [
    "model = GPTLanguageModel(vocab_size)\n",
    "model.load_state_dict(torch.load(model_export))\n",
    "model.to(device)"
   ]
  },
  {
   "cell_type": "code",
   "execution_count": null,
   "id": "1cc34d1b",
   "metadata": {},
   "outputs": [],
   "source": [
    "with open('model-01.pkl', 'wb') as f:\n",
    "    pickle.dump(model, f)\n",
    "print('model saved')"
   ]
  },
  {
   "cell_type": "code",
   "execution_count": null,
   "id": "343c2132",
   "metadata": {},
   "outputs": [],
   "source": [
    "with open('model-01.pkl', 'rb') as f:\n",
    "     model = pickle.load(f)"
   ]
  },
  {
   "cell_type": "markdown",
   "id": "b4001618",
   "metadata": {},
   "source": [
    "# Use the model\n",
    "Finally, of course, we want to use the model. This simply generates new tokens for a given starting context. This is not ChatGPT, but at least it demonstrates the effect:"
   ]
  },
  {
   "cell_type": "code",
   "execution_count": 54,
   "id": "9fb9870f",
   "metadata": {},
   "outputs": [
    {
     "name": "stdout",
     "output_type": "stream",
     "text": [
      "Hello WolHeloHerrlloWlrle\n",
      "rlddrl \n",
      "!H\n",
      "l\n",
      "Hello WoWWeoellre  r\n",
      "\n",
      "!ldr\n",
      "r odro reW\n",
      "\n",
      "Hello Wo lld Wl!o \n",
      "lrrHrl\n",
      "leeorHl!HHle\n",
      "Hello Wor\n",
      "r!eHlerdrH  dH  \n",
      "leH ooo W\n",
      "\n",
      "\n",
      "Hello WoWWr!errWd\n",
      "roHdeo dHldderWeedll\n",
      "Hello Woollo!!\n",
      "HH erH!W Hlor !leddl\n",
      "dd\n",
      "Hello Worddr  ldHd!!lelHdH!ld\n",
      " \n",
      "lrWrrl\n",
      "Hello Wo\n",
      "e rH !W \n",
      "ll oHrW !W orWl!r!\n",
      "r\n",
      "Hello Wood\n",
      "\n",
      "eddrdWleorWe!H\n",
      "Hede e!\n",
      "Hll\n",
      "Hello Wo\n",
      "rHol\n",
      "!!lW!ledHedeWeeoW  lo\n",
      "ee\n"
     ]
    }
   ],
   "source": [
    "prompt = 'Hello Wo'\n",
    "if len(prompt) < sequence_length:\n",
    "  raise SystemError(f\"Prompt length ({len(prompt)}) cannot be smaller than sequence length: {sequence_length}\")\n",
    "context = torch.tensor(encode(char_table, prompt), dtype=torch.long, device=device)\n",
    "\n",
    "with torch.inference_mode():\n",
    "  for iter in range(10):    \n",
    "    generated_chars = decode(reverse_char_table, model.generate(context.unsqueeze(0), max_new_tokens = 30)[0].tolist())\n",
    "    print(generated_chars)"
   ]
  },
  {
   "cell_type": "markdown",
   "id": "65e5a721",
   "metadata": {},
   "source": [
    "# Part 2 - Step By Step"
   ]
  },
  {
   "cell_type": "markdown",
   "id": "6e16b56a",
   "metadata": {},
   "source": [
    "<img style=\"float: right;\" src=\"gfx/Folie1.png\">\n",
    "\n",
    "The following part will  look at the process inside the model, not the learning process. Meaning we are **not** going to deal with loss and optimizer. \n",
    "\n",
    "We will use a simple *text* containing 100 times the same chars: *ABCA*. \n",
    "\n",
    "First we need to encode it, simply using an integer char table."
   ]
  },
  {
   "cell_type": "code",
   "execution_count": 55,
   "id": "10a7503e",
   "metadata": {},
   "outputs": [
    {
     "name": "stdout",
     "output_type": "stream",
     "text": [
      "First 20 chars in our dataset: ABCAABCAABCAABCAABCA\n",
      "Char table: {'A': 0, 'B': 1, 'C': 2}\n",
      "Vocabulary size is: 3\n"
     ]
    }
   ],
   "source": [
    "data = 'ABCA' * 100\n",
    "\n",
    "chars = sorted(list(set(''.join(data))))\n",
    "vocab_size = len(chars)\n",
    "char_table = {char:index for index,char in enumerate(chars)}\n",
    "encoded_data = torch.tensor(encode(char_table = char_table, text = data), dtype=torch.long)\n",
    "\n",
    "print(f'First 20 chars in our dataset: {data[:20]}')\n",
    "print(f'Char table: {char_table}')\n",
    "print(f'Vocabulary size is: {vocab_size}')"
   ]
  },
  {
   "cell_type": "markdown",
   "id": "acfd683a",
   "metadata": {},
   "source": [
    "Now we will take ```batch_size``` sequences of length ```sequence_length``` from random positions in the text. In this simple case this will result in **2 sequences** with a length of **4 chars** each. The output is a tensor with a shape of 2, 4 - 2 sequences, sequence length is 4:"
   ]
  },
  {
   "cell_type": "code",
   "execution_count": 56,
   "id": "b99b408c",
   "metadata": {},
   "outputs": [
    {
     "data": {
      "text/plain": [
       "tensor([[2, 0, 0, 1],\n",
       "        [0, 1, 2, 0]], device='mps:0')"
      ]
     },
     "execution_count": 56,
     "metadata": {},
     "output_type": "execute_result"
    }
   ],
   "source": [
    "sequence_length = 4 # tokens per block/sequence\n",
    "batch_size = 2 # blocks per batch\n",
    "\n",
    "random_block_start_indices = torch.randint(len(encoded_data) - sequence_length, (batch_size,))\n",
    "            \n",
    "X_batch = torch.stack([encoded_data[index:index + sequence_length] for index in random_block_start_indices])\n",
    "X_batch = X_batch.to(device)\n",
    "X_batch"
   ]
  },
  {
   "cell_type": "markdown",
   "id": "2e6977a0",
   "metadata": {},
   "source": [
    "FWIFW: We skip the `y_batch` for now. For that we just need to shift the position of the `X_batch` by e.g. 1 position to the right.\n",
    "\n",
    "Our first batch is ready. We could translate this back to readable chars, just to check what positions our previous function gave us:"
   ]
  },
  {
   "cell_type": "code",
   "execution_count": 58,
   "id": "962b5bd7",
   "metadata": {},
   "outputs": [
    {
     "name": "stdout",
     "output_type": "stream",
     "text": [
      "['CAAB', 'ABCA']\n"
     ]
    }
   ],
   "source": [
    "print([''.join(list(char_table.keys())[idx] for idx in sequence) for sequence in X_batch.cpu().numpy()])"
   ]
  },
  {
   "cell_type": "markdown",
   "id": "d9508663",
   "metadata": {},
   "source": [
    "<img style=\"float: right;\" src=\"gfx/Folie2.png\">\n",
    "\n",
    "Now let's create the token embeddings, which is \"simply\" a float representation of length `embedding_size` for each char. As you can see, this increases the shape of or tensor: We have 2 sequences with a sequence length of 4 and each having 3 embeddings. If you read it from top to bottom, you get your letters/tokens for each sequence:"
   ]
  },
  {
   "cell_type": "code",
   "execution_count": 59,
   "id": "a622340f",
   "metadata": {},
   "outputs": [
    {
     "data": {
      "text/plain": [
       "tensor([[[ 0.4070,  0.2609,  0.3285],\n",
       "         [-0.8823,  0.3972,  0.1231],\n",
       "         [-0.8823,  0.3972,  0.1231],\n",
       "         [ 0.5862,  0.2738, -0.7513]],\n",
       "\n",
       "        [[-0.8823,  0.3972,  0.1231],\n",
       "         [ 0.5862,  0.2738, -0.7513],\n",
       "         [ 0.4070,  0.2609,  0.3285],\n",
       "         [-0.8823,  0.3972,  0.1231]]], device='mps:0',\n",
       "       grad_fn=<EmbeddingBackward0>)"
      ]
     },
     "execution_count": 59,
     "metadata": {},
     "output_type": "execute_result"
    }
   ],
   "source": [
    "embedding_size = 3\n",
    "\n",
    "token_embeddings_table = nn.Embedding(num_embeddings=vocab_size, embedding_dim=embedding_size).to(device)\n",
    "X_token_embeddings = token_embeddings_table(X_batch)\n",
    "X_token_embeddings"
   ]
  },
  {
   "cell_type": "markdown",
   "id": "a84bc720",
   "metadata": {},
   "source": [
    "The position embeddings works basically the same. This time we use a vector representing each position of the sequence. "
   ]
  },
  {
   "cell_type": "code",
   "execution_count": 60,
   "id": "133176bc",
   "metadata": {},
   "outputs": [
    {
     "data": {
      "text/plain": [
       "tensor([0, 1, 2, 3], device='mps:0')"
      ]
     },
     "execution_count": 60,
     "metadata": {},
     "output_type": "execute_result"
    }
   ],
   "source": [
    "position_embeddings_table = nn.Embedding(num_embeddings=vocab_size, embedding_dim=embedding_size).to(device)\n",
    "positions = torch.arange(sequence_length, device = device)\n",
    "positions"
   ]
  },
  {
   "cell_type": "markdown",
   "id": "5ff5f428",
   "metadata": {},
   "source": [
    "And then we map our sequence to this position embeddings table. Now every position is represented by a vector with the length of `embedding_size`. Now the tensor consists of only one matrix. Apparently, because this tensor just represents the positions from 1 to 4:"
   ]
  },
  {
   "cell_type": "code",
   "execution_count": 61,
   "id": "bf967c8d",
   "metadata": {},
   "outputs": [
    {
     "data": {
      "text/plain": [
       "tensor([[-0.2754, -0.0690, -1.2826],\n",
       "        [ 0.5533,  0.1064,  1.7657],\n",
       "        [-0.9466,  1.8032,  1.3748],\n",
       "        [ 0.0000,  0.0000,  0.0000]], device='mps:0',\n",
       "       grad_fn=<EmbeddingBackward0>)"
      ]
     },
     "execution_count": 61,
     "metadata": {},
     "output_type": "execute_result"
    }
   ],
   "source": [
    "X_position_embeddings = position_embeddings_table(positions)\n",
    "X_position_embeddings"
   ]
  },
  {
   "cell_type": "markdown",
   "id": "a96998c0",
   "metadata": {},
   "source": [
    "<img style=\"float: right;\" src=\"gfx/Folie3.png\">\n",
    "\n",
    "Finally we add up both embedding/matrices that we can send right away to into our Model. You still can see our tokens (aka chars) from top to botton, each one represented by a vector of floats:"
   ]
  },
  {
   "cell_type": "code",
   "execution_count": 62,
   "id": "860bb5c0",
   "metadata": {},
   "outputs": [
    {
     "data": {
      "text/plain": [
       "tensor([[[ 0.1316,  0.1919, -0.9541],\n",
       "         [-0.3290,  0.5036,  1.8888],\n",
       "         [-1.8289,  2.2004,  1.4979],\n",
       "         [ 0.5862,  0.2738, -0.7513]],\n",
       "\n",
       "        [[-1.1577,  0.3283, -1.1595],\n",
       "         [ 1.1395,  0.3802,  1.0144],\n",
       "         [-0.5396,  2.0641,  1.7033],\n",
       "         [-0.8823,  0.3972,  0.1231]]], device='mps:0', grad_fn=<AddBackward0>)"
      ]
     },
     "execution_count": 62,
     "metadata": {},
     "output_type": "execute_result"
    }
   ],
   "source": [
    "X_embeddings = X_token_embeddings + X_position_embeddings\n",
    "X_embeddings"
   ]
  },
  {
   "cell_type": "markdown",
   "id": "d0559b17",
   "metadata": {},
   "source": [
    "<img style=\"float: right;\" src=\"gfx/Folie4.png\">\n",
    "\n",
    "Wen the embeddings arrive in the Transformer block, they go straight to the first Multihead-Attention-Module where we first calculate `keys` and `queries` using `LinearLayers`. Every embedding is now represented by a vector, where the length is defined by `attention_head_size`. If you look closer, you may still recognize our tokens from top to bottom ;)\n",
    "\n",
    "While `keys` and `queries` serve a different purpose, the both come from the same mathematical background: a Linear Layer (with not bias)."
   ]
  },
  {
   "cell_type": "code",
   "execution_count": 72,
   "id": "a7aaee01",
   "metadata": {},
   "outputs": [
    {
     "name": "stdout",
     "output_type": "stream",
     "text": [
      "tensor([[[0.1988],\n",
      "         [0.0080],\n",
      "         [0.7045],\n",
      "         [0.2537]],\n",
      "\n",
      "        [[0.1745],\n",
      "         [0.1656],\n",
      "         [0.7288],\n",
      "         [0.0960]]], device='mps:0', grad_fn=<LinearBackward0>)\n",
      "tensor([[[ 0.0341],\n",
      "         [ 0.4429],\n",
      "         [ 2.2007],\n",
      "         [-0.1808]],\n",
      "\n",
      "        [[ 0.8383],\n",
      "         [-0.4488],\n",
      "         [ 1.3965],\n",
      "         [ 0.7109]]], device='mps:0', grad_fn=<LinearBackward0>)\n"
     ]
    }
   ],
   "source": [
    "# attention_head_size is set locally for training purposes, if we had multiple heads, we'd set this to embedding_size / num_heads\n",
    "attention_head_size = 1\n",
    "\n",
    "linear_layer_keys = nn.Linear(in_features=embedding_size, out_features=attention_head_size, bias=False).to(device)\n",
    "linear_layer_queries = nn.Linear(in_features=embedding_size, out_features=attention_head_size, bias=False).to(device)\n",
    "keys = linear_layer_keys(X_embeddings)\n",
    "queries = linear_layer_queries(X_embeddings)\n",
    "print(keys)\n",
    "print(queries)"
   ]
  },
  {
   "cell_type": "markdown",
   "id": "26fd5696",
   "metadata": {},
   "source": [
    "This step is called \"scaled dot-product\". Before we can multiply queries and keys, keys have to be transposed. Then we apply a \"scaling\" using square root. The result is now some kind of attention score representing, how our input tokens \"attend\" to each other. "
   ]
  },
  {
   "cell_type": "code",
   "execution_count": 70,
   "id": "7123bfdf",
   "metadata": {},
   "outputs": [
    {
     "data": {
      "text/plain": [
       "tensor([[[-0.1556,  0.2085, -0.2660, -0.0577],\n",
       "         [ 0.2727, -0.3654,  0.4661,  0.1011],\n",
       "         [ 0.5263, -0.7051,  0.8996,  0.1951],\n",
       "         [-0.2591,  0.3471, -0.4428, -0.0960]],\n",
       "\n",
       "        [[ 0.4145, -0.3154,  0.0124,  0.1627],\n",
       "         [-0.5585,  0.4249, -0.0167, -0.2191],\n",
       "         [ 0.5605, -0.4264,  0.0168,  0.2199],\n",
       "         [ 0.5943, -0.4521,  0.0178,  0.2332]]], device='mps:0',\n",
       "       grad_fn=<MulBackward0>)"
      ]
     },
     "execution_count": 70,
     "metadata": {},
     "output_type": "execute_result"
    }
   ],
   "source": [
    "scaled_attention_scores = queries @ keys.transpose(-2,-1) * keys.shape[-1] ** -0.5\n",
    "scaled_attention_scores"
   ]
  },
  {
   "cell_type": "markdown",
   "id": "147398fc",
   "metadata": {},
   "source": [
    "<img style=\"float: right;\" src=\"gfx/Folie5.png\">\n",
    "\n",
    "But we don't want them to attend to \"future\" tokens, that's why we need to drop some attention scores. To achieve that we use some PyTorch magic: The triangular matrix is a triangular made of 1s:"
   ]
  },
  {
   "cell_type": "code",
   "execution_count": 77,
   "id": "5df3ebfe",
   "metadata": {},
   "outputs": [
    {
     "data": {
      "text/plain": [
       "tensor([[1., 0., 0., 0.],\n",
       "        [1., 1., 0., 0.],\n",
       "        [1., 1., 1., 0.],\n",
       "        [1., 1., 1., 1.]], device='mps:0')"
      ]
     },
     "execution_count": 77,
     "metadata": {},
     "output_type": "execute_result"
    }
   ],
   "source": [
    "triangular_matrix= torch.tril(torch.ones(sequence_length, sequence_length)).to(device)\n",
    "triangular_matrix"
   ]
  },
  {
   "cell_type": "markdown",
   "id": "7eb9e07d",
   "metadata": {},
   "source": [
    "<img style=\"float: right;\" src=\"gfx/Folie6.png\">\n",
    "\n",
    "Now we mask the attention scores using this triangular matrix. This way a token  only attends to itself and all previous tokens:"
   ]
  },
  {
   "cell_type": "code",
   "execution_count": 78,
   "id": "9473a76e",
   "metadata": {},
   "outputs": [
    {
     "data": {
      "text/plain": [
       "tensor([[[-0.1556,    -inf,    -inf,    -inf],\n",
       "         [ 0.2727, -0.3654,    -inf,    -inf],\n",
       "         [ 0.5263, -0.7051,  0.8996,    -inf],\n",
       "         [-0.2591,  0.3471, -0.4428, -0.0960]],\n",
       "\n",
       "        [[ 0.4145,    -inf,    -inf,    -inf],\n",
       "         [-0.5585,  0.4249,    -inf,    -inf],\n",
       "         [ 0.5605, -0.4264,  0.0168,    -inf],\n",
       "         [ 0.5943, -0.4521,  0.0178,  0.2332]]], device='mps:0',\n",
       "       grad_fn=<MaskedFillBackward0>)"
      ]
     },
     "execution_count": 78,
     "metadata": {},
     "output_type": "execute_result"
    }
   ],
   "source": [
    "causal_attention_scores = scaled_attention_scores.masked_fill(triangular_matrix[:sequence_length, :sequence_length] == 0, float('-inf'))\n",
    "causal_attention_scores"
   ]
  },
  {
   "cell_type": "markdown",
   "id": "d68c9d9c",
   "metadata": {},
   "source": [
    "And some housekeeping. Softmax results in actual probabilities:"
   ]
  },
  {
   "cell_type": "code",
   "execution_count": 79,
   "id": "053e7d0a",
   "metadata": {},
   "outputs": [
    {
     "data": {
      "text/plain": [
       "tensor([[[1.0000, 0.0000, 0.0000, 0.0000],\n",
       "         [0.6543, 0.3457, 0.0000, 0.0000],\n",
       "         [0.3644, 0.1064, 0.5293, 0.0000],\n",
       "         [0.2065, 0.3786, 0.1718, 0.2431]],\n",
       "\n",
       "        [[1.0000, 0.0000, 0.0000, 0.0000],\n",
       "         [0.2722, 0.7278, 0.0000, 0.0000],\n",
       "         [0.5119, 0.1908, 0.2972, 0.0000],\n",
       "         [0.3831, 0.1346, 0.2153, 0.2670]]], device='mps:0',\n",
       "       grad_fn=<SoftmaxBackward0>)"
      ]
     },
     "execution_count": 79,
     "metadata": {},
     "output_type": "execute_result"
    }
   ],
   "source": [
    "weights = torch.softmax(causal_attention_scores, dim=-1) # (B, T, T)\n",
    "weights"
   ]
  },
  {
   "cell_type": "markdown",
   "id": "fa4cdd2d",
   "metadata": {},
   "source": [
    "<img style=\"float: right;\" src=\"gfx/Folie7.png\">\n",
    "\n",
    "\"Dropping nodes\" is a common practice to prevent overfitting:"
   ]
  },
  {
   "cell_type": "code",
   "execution_count": 89,
   "id": "7e3e488a",
   "metadata": {},
   "outputs": [
    {
     "data": {
      "text/plain": [
       "tensor([[[0.0000, 0.0000, 0.0000, 0.0000],\n",
       "         [1.0224, 0.5401, 0.0000, 0.0000],\n",
       "         [0.5693, 0.1662, 0.0000, 0.0000],\n",
       "         [0.3227, 0.5916, 0.2685, 0.3798]],\n",
       "\n",
       "        [[1.5625, 0.0000, 0.0000, 0.0000],\n",
       "         [0.4254, 1.1371, 0.0000, 0.0000],\n",
       "         [0.7999, 0.2982, 0.0000, 0.0000],\n",
       "         [0.5987, 0.0000, 0.0000, 0.4172]]], device='mps:0',\n",
       "       grad_fn=<MulBackward0>)"
      ]
     },
     "execution_count": 89,
     "metadata": {},
     "output_type": "execute_result"
    }
   ],
   "source": [
    "dropout_rate = 0.2\n",
    "\n",
    "dropout = nn.Dropout(dropout_rate)\n",
    "weights = dropout(weights)\n",
    "weights"
   ]
  },
  {
   "cell_type": "markdown",
   "id": "e92d9793",
   "metadata": {},
   "source": [
    "<img style=\"float: right;\" src=\"gfx/Folie8.png\">\n",
    "\n",
    "Now, again using a \"simple\" Linear Layer without biases, we calculate values and multiply them with our weights. This results in weighted values or better: attention scores:"
   ]
  },
  {
   "cell_type": "code",
   "execution_count": 100,
   "id": "a1127738",
   "metadata": {},
   "outputs": [
    {
     "name": "stdout",
     "output_type": "stream",
     "text": [
      "tensor([[[ 0.0000],\n",
      "         [-0.1649],\n",
      "         [-0.1066],\n",
      "         [-0.1014]],\n",
      "\n",
      "        [[-0.4705],\n",
      "         [ 0.1984],\n",
      "         [-0.1553],\n",
      "         [-0.2430]]], device='mps:0', grad_fn=<UnsafeViewBackward0>)\n"
     ]
    }
   ],
   "source": [
    "linear_layer_values = nn.Linear(in_features=embedding_size, out_features=attention_head_size, bias=False).to(device)\n",
    "values = linear_layer_values(X_embeddings)\n",
    "attention_scores = weights @ values\n",
    "print(attention_scores)"
   ]
  },
  {
   "cell_type": "markdown",
   "id": "ecffd82f",
   "metadata": {},
   "source": [
    "<img style=\"float: right;\" src=\"gfx/Folie10.png\">\n",
    "\n",
    "In the next step, within the MultiHeadAttention-Class, the weighted values of each head will now be **concatenated** and another dropout will be applied. We can skip this, as we only simulate one head here. The final result will be send back to the TransformerBlock, where it will be processed further. First step is a Normalisation Layer:"
   ]
  },
  {
   "cell_type": "code",
   "execution_count": 99,
   "id": "e6580e19",
   "metadata": {},
   "outputs": [
    {
     "name": "stdout",
     "output_type": "stream",
     "text": [
      "tensor([[[ 0.6491,  0.7635, -1.4127],\n",
      "         [-1.1116, -0.2014,  1.3129],\n",
      "         [-1.3952,  0.8975,  0.4978],\n",
      "         [ 0.9627,  0.4159, -1.3785]],\n",
      "\n",
      "        [[-0.7058,  1.4142, -0.7084],\n",
      "         [ 0.8869, -1.3974,  0.5105],\n",
      "         [-1.4026,  0.8579,  0.5447],\n",
      "         [-1.3846,  0.9415,  0.4431]]], device='mps:0',\n",
      "       grad_fn=<NativeLayerNormBackward0>)\n"
     ]
    }
   ],
   "source": [
    "normalisation_layer_1 = nn.LayerNorm(embedding_size).to(device)\n",
    "normalised_attention_scores = normalisation_layer_1(X_embeddings + attention_scores)\n",
    "\n",
    "print(normalised_attention_scores)"
   ]
  },
  {
   "cell_type": "markdown",
   "id": "e904954a",
   "metadata": {},
   "source": [
    "<img style=\"float: right;\" src=\"gfx/Folie11.png\">\n",
    "\n",
    "And here comes the second important part of the Model: The FeedForwardLayer. Again, this is basically just a Linear Layer, a ReLu-Layer (remember part 02, binary classification?), another Linear Layer and again, a dropout layer. While the multi-head attention calculates relationships, this part refines individual characteristics:"
   ]
  },
  {
   "cell_type": "code",
   "execution_count": 98,
   "id": "71ad8789",
   "metadata": {},
   "outputs": [
    {
     "name": "stdout",
     "output_type": "stream",
     "text": [
      "tensor([[[ 0.4651,  0.9240, -1.3892],\n",
      "         [-1.3505,  0.3116,  1.0388],\n",
      "         [-1.3701,  0.9884,  0.3817],\n",
      "         [ 0.7511,  0.6622, -1.4133]],\n",
      "\n",
      "        [[-0.8311,  1.4065, -0.5754],\n",
      "         [ 0.9631, -1.3784,  0.4153],\n",
      "         [-1.4033,  0.8532,  0.5501],\n",
      "         [-1.3939,  0.9037,  0.4902]]], device='mps:0',\n",
      "       grad_fn=<NativeLayerNormBackward0>)\n"
     ]
    }
   ],
   "source": [
    "feed_forward_layer = FeedForward().to(device)\n",
    "normalisation_layer_2 = nn.LayerNorm(embedding_size).to(device)\n",
    "\n",
    "refined_attention_scores = feed_forward_layer(normalised_attention_scores) # refine individual characteristics\n",
    "final_attention_scores = normalisation_layer_2(refined_attention_scores + normalised_attention_scores) # residual connection to mitigate the vanishing gradient\n",
    "\n",
    "print(final_attention_scores)"
   ]
  },
  {
   "cell_type": "markdown",
   "id": "8d27313a",
   "metadata": {},
   "source": [
    "<img style=\"float: right;\" src=\"gfx/Folie13.png\">\n",
    "\n",
    "Done that, we do the same same thing again in all the other Transformer Blocks. "
   ]
  }
 ],
 "metadata": {
  "kernelspec": {
   "display_name": "Python 3",
   "language": "python",
   "name": "python3"
  },
  "language_info": {
   "codemirror_mode": {
    "name": "ipython",
    "version": 3
   },
   "file_extension": ".py",
   "mimetype": "text/x-python",
   "name": "python",
   "nbconvert_exporter": "python",
   "pygments_lexer": "ipython3",
   "version": "3.9.6"
  }
 },
 "nbformat": 4,
 "nbformat_minor": 5
}
